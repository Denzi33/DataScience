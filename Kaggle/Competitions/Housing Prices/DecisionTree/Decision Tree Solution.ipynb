{
 "cells": [
  {
   "cell_type": "markdown",
   "id": "90bf8c51",
   "metadata": {},
   "source": [
    "# HOUSING PRICES COMPETITION"
   ]
  },
  {
   "cell_type": "markdown",
   "id": "47a85653",
   "metadata": {},
   "source": [
    "### WHAT WE USE:\n",
    "* *\"Pipeline\"* as a pipeline\n",
    "* *\"mean_absolute_error\"* as a metric function\n",
    "* *\"DecisionTreeRegressor\"* as a solution model\n",
    "* *\"SimpleImputer\"* as an imputer of missing data\n",
    "* *\"ColumnTransformer\"* as a combinator of pipelines\n",
    "* *\"OneHotEncoder\"* as a decoder of categorical variables\n",
    "* *\"OrdinalEncoder\"* as a decoder of ranked categorical variables\n",
    "* *\"cross_val_score\"* as a comparator of models with different parameters"
   ]
  },
  {
   "cell_type": "markdown",
   "id": "814e8a82",
   "metadata": {},
   "source": [
    "#### PREPARE PROJECT"
   ]
  },
  {
   "cell_type": "code",
   "execution_count": 1,
   "id": "fedda1b2",
   "metadata": {},
   "outputs": [],
   "source": [
    "# The module for manipulating with the data\n",
    "import pandas as pd\n",
    "\n",
    "# The module for drawing plots\n",
    "import seaborn as sns\n",
    "\n",
    "# The module of setting plot area\n",
    "import matplotlib.pyplot as plt"
   ]
  },
  {
   "cell_type": "code",
   "execution_count": 2,
   "id": "941bbe30",
   "metadata": {},
   "outputs": [],
   "source": [
    "# The function to disable notebooks warnings\n",
    "from warnings import filterwarnings\n",
    "\n",
    "# The pipeline for optimizing project code and work\n",
    "from sklearn.pipeline import Pipeline\n",
    "\n",
    "# The imputer for quick filling data\n",
    "from sklearn.impute import SimpleImputer\n",
    "\n",
    "# The transformer for merging pipelines\n",
    "from sklearn.compose import ColumnTransformer\n",
    "\n",
    "# The model for regression task\n",
    "from sklearn.tree import DecisionTreeRegressor\n",
    "\n",
    "# The project metric\n",
    "from sklearn.metrics import mean_absolute_error\n",
    "\n",
    "# The models for converting categorical features\n",
    "from sklearn.preprocessing import OneHotEncoder\n",
    "from sklearn.preprocessing import OrdinalEncoder\n",
    "\n",
    "# The cross-validation model\n",
    "from sklearn.model_selection import cross_val_score"
   ]
  },
  {
   "cell_type": "code",
   "execution_count": 3,
   "id": "c83767d9",
   "metadata": {},
   "outputs": [],
   "source": [
    "# Disable warnings\n",
    "filterwarnings(\"ignore\")\n",
    "\n",
    "# The locations of data\n",
    "test_path = \"../test_data.csv\"\n",
    "train_path = \"../train_data.csv\"\n",
    "\n",
    "# Set dimension of plots\n",
    "sns.set(rc={'figure.figsize':(8, 4)})\n",
    "\n",
    "# Prepare display settings\n",
    "pd.option_context(\"display.max_rows\", 100)\n",
    "pd.option_context(\"display.max_columns\", 100);"
   ]
  },
  {
   "cell_type": "markdown",
   "id": "becbb389",
   "metadata": {},
   "source": [
    "#### LOAD DATA"
   ]
  },
  {
   "cell_type": "code",
   "execution_count": 4,
   "id": "fb586570",
   "metadata": {},
   "outputs": [],
   "source": [
    "# Clone data to dataframe and use house id as index\n",
    "test_dataframe = pd.read_csv(test_path, index_col=\"Id\")\n",
    "train_dataframe = pd.read_csv(train_path, index_col=\"Id\")\n",
    "pipeline_test_dataframe = pd.read_csv(test_path, index_col=\"Id\")\n",
    "pipeline_train_dataframe = pd.read_csv(train_path, index_col=\"Id\")"
   ]
  },
  {
   "cell_type": "markdown",
   "id": "d75922ba",
   "metadata": {},
   "source": [
    "#### PRIMARY WORK WITH DATA"
   ]
  },
  {
   "cell_type": "code",
   "execution_count": 5,
   "id": "f3048984",
   "metadata": {
    "scrolled": true
   },
   "outputs": [
    {
     "name": "stdout",
     "output_type": "stream",
     "text": [
      "<class 'pandas.core.frame.DataFrame'>\n",
      "Int64Index: 1460 entries, 1 to 1460\n",
      "Data columns (total 80 columns):\n",
      " #   Column         Non-Null Count  Dtype  \n",
      "---  ------         --------------  -----  \n",
      " 0   MSSubClass     1460 non-null   int64  \n",
      " 1   MSZoning       1460 non-null   object \n",
      " 2   LotFrontage    1201 non-null   float64\n",
      " 3   LotArea        1460 non-null   int64  \n",
      " 4   Street         1460 non-null   object \n",
      " 5   Alley          91 non-null     object \n",
      " 6   LotShape       1460 non-null   object \n",
      " 7   LandContour    1460 non-null   object \n",
      " 8   Utilities      1460 non-null   object \n",
      " 9   LotConfig      1460 non-null   object \n",
      " 10  LandSlope      1460 non-null   object \n",
      " 11  Neighborhood   1460 non-null   object \n",
      " 12  Condition1     1460 non-null   object \n",
      " 13  Condition2     1460 non-null   object \n",
      " 14  BldgType       1460 non-null   object \n",
      " 15  HouseStyle     1460 non-null   object \n",
      " 16  OverallQual    1460 non-null   int64  \n",
      " 17  OverallCond    1460 non-null   int64  \n",
      " 18  YearBuilt      1460 non-null   int64  \n",
      " 19  YearRemodAdd   1460 non-null   int64  \n",
      " 20  RoofStyle      1460 non-null   object \n",
      " 21  RoofMatl       1460 non-null   object \n",
      " 22  Exterior1st    1460 non-null   object \n",
      " 23  Exterior2nd    1460 non-null   object \n",
      " 24  MasVnrType     1452 non-null   object \n",
      " 25  MasVnrArea     1452 non-null   float64\n",
      " 26  ExterQual      1460 non-null   object \n",
      " 27  ExterCond      1460 non-null   object \n",
      " 28  Foundation     1460 non-null   object \n",
      " 29  BsmtQual       1423 non-null   object \n",
      " 30  BsmtCond       1423 non-null   object \n",
      " 31  BsmtExposure   1422 non-null   object \n",
      " 32  BsmtFinType1   1423 non-null   object \n",
      " 33  BsmtFinSF1     1460 non-null   int64  \n",
      " 34  BsmtFinType2   1422 non-null   object \n",
      " 35  BsmtFinSF2     1460 non-null   int64  \n",
      " 36  BsmtUnfSF      1460 non-null   int64  \n",
      " 37  TotalBsmtSF    1460 non-null   int64  \n",
      " 38  Heating        1460 non-null   object \n",
      " 39  HeatingQC      1460 non-null   object \n",
      " 40  CentralAir     1460 non-null   object \n",
      " 41  Electrical     1459 non-null   object \n",
      " 42  1stFlrSF       1460 non-null   int64  \n",
      " 43  2ndFlrSF       1460 non-null   int64  \n",
      " 44  LowQualFinSF   1460 non-null   int64  \n",
      " 45  GrLivArea      1460 non-null   int64  \n",
      " 46  BsmtFullBath   1460 non-null   int64  \n",
      " 47  BsmtHalfBath   1460 non-null   int64  \n",
      " 48  FullBath       1460 non-null   int64  \n",
      " 49  HalfBath       1460 non-null   int64  \n",
      " 50  BedroomAbvGr   1460 non-null   int64  \n",
      " 51  KitchenAbvGr   1460 non-null   int64  \n",
      " 52  KitchenQual    1460 non-null   object \n",
      " 53  TotRmsAbvGrd   1460 non-null   int64  \n",
      " 54  Functional     1460 non-null   object \n",
      " 55  Fireplaces     1460 non-null   int64  \n",
      " 56  FireplaceQu    770 non-null    object \n",
      " 57  GarageType     1379 non-null   object \n",
      " 58  GarageYrBlt    1379 non-null   float64\n",
      " 59  GarageFinish   1379 non-null   object \n",
      " 60  GarageCars     1460 non-null   int64  \n",
      " 61  GarageArea     1460 non-null   int64  \n",
      " 62  GarageQual     1379 non-null   object \n",
      " 63  GarageCond     1379 non-null   object \n",
      " 64  PavedDrive     1460 non-null   object \n",
      " 65  WoodDeckSF     1460 non-null   int64  \n",
      " 66  OpenPorchSF    1460 non-null   int64  \n",
      " 67  EnclosedPorch  1460 non-null   int64  \n",
      " 68  3SsnPorch      1460 non-null   int64  \n",
      " 69  ScreenPorch    1460 non-null   int64  \n",
      " 70  PoolArea       1460 non-null   int64  \n",
      " 71  PoolQC         7 non-null      object \n",
      " 72  Fence          281 non-null    object \n",
      " 73  MiscFeature    54 non-null     object \n",
      " 74  MiscVal        1460 non-null   int64  \n",
      " 75  MoSold         1460 non-null   int64  \n",
      " 76  YrSold         1460 non-null   int64  \n",
      " 77  SaleType       1460 non-null   object \n",
      " 78  SaleCondition  1460 non-null   object \n",
      " 79  SalePrice      1460 non-null   int64  \n",
      "dtypes: float64(3), int64(34), object(43)\n",
      "memory usage: 923.9+ KB\n"
     ]
    }
   ],
   "source": [
    "# Check train dataframe\n",
    "train_dataframe.info()"
   ]
  },
  {
   "cell_type": "code",
   "execution_count": 6,
   "id": "021c43e3",
   "metadata": {},
   "outputs": [],
   "source": [
    "# Cut the target feature\n",
    "Y = train_dataframe.SalePrice.copy()\n",
    "\n",
    "# Drop columns which have to many miss values (and target column for training dataset)\n",
    "test_dataframe.drop(columns=[\"Alley\", \"PoolQC\", \"MiscFeature\", \"Fence\", \"FireplaceQu\"], inplace=True)\n",
    "train_dataframe.drop(columns=[\"Alley\", \"PoolQC\", \"MiscFeature\", \"Fence\", \"FireplaceQu\", \"SalePrice\"], inplace=True)"
   ]
  },
  {
   "cell_type": "code",
   "execution_count": 7,
   "id": "b255b2f3",
   "metadata": {
    "scrolled": true
   },
   "outputs": [
    {
     "name": "stdout",
     "output_type": "stream",
     "text": [
      "<class 'pandas.core.frame.DataFrame'>\n",
      "Int64Index: 1460 entries, 1 to 1460\n",
      "Data columns (total 74 columns):\n",
      " #   Column         Non-Null Count  Dtype  \n",
      "---  ------         --------------  -----  \n",
      " 0   MSSubClass     1460 non-null   int64  \n",
      " 1   MSZoning       1460 non-null   object \n",
      " 2   LotFrontage    1201 non-null   float64\n",
      " 3   LotArea        1460 non-null   int64  \n",
      " 4   Street         1460 non-null   object \n",
      " 5   LotShape       1460 non-null   object \n",
      " 6   LandContour    1460 non-null   object \n",
      " 7   Utilities      1460 non-null   object \n",
      " 8   LotConfig      1460 non-null   object \n",
      " 9   LandSlope      1460 non-null   object \n",
      " 10  Neighborhood   1460 non-null   object \n",
      " 11  Condition1     1460 non-null   object \n",
      " 12  Condition2     1460 non-null   object \n",
      " 13  BldgType       1460 non-null   object \n",
      " 14  HouseStyle     1460 non-null   object \n",
      " 15  OverallQual    1460 non-null   int64  \n",
      " 16  OverallCond    1460 non-null   int64  \n",
      " 17  YearBuilt      1460 non-null   int64  \n",
      " 18  YearRemodAdd   1460 non-null   int64  \n",
      " 19  RoofStyle      1460 non-null   object \n",
      " 20  RoofMatl       1460 non-null   object \n",
      " 21  Exterior1st    1460 non-null   object \n",
      " 22  Exterior2nd    1460 non-null   object \n",
      " 23  MasVnrType     1452 non-null   object \n",
      " 24  MasVnrArea     1452 non-null   float64\n",
      " 25  ExterQual      1460 non-null   object \n",
      " 26  ExterCond      1460 non-null   object \n",
      " 27  Foundation     1460 non-null   object \n",
      " 28  BsmtQual       1423 non-null   object \n",
      " 29  BsmtCond       1423 non-null   object \n",
      " 30  BsmtExposure   1422 non-null   object \n",
      " 31  BsmtFinType1   1423 non-null   object \n",
      " 32  BsmtFinSF1     1460 non-null   int64  \n",
      " 33  BsmtFinType2   1422 non-null   object \n",
      " 34  BsmtFinSF2     1460 non-null   int64  \n",
      " 35  BsmtUnfSF      1460 non-null   int64  \n",
      " 36  TotalBsmtSF    1460 non-null   int64  \n",
      " 37  Heating        1460 non-null   object \n",
      " 38  HeatingQC      1460 non-null   object \n",
      " 39  CentralAir     1460 non-null   object \n",
      " 40  Electrical     1459 non-null   object \n",
      " 41  1stFlrSF       1460 non-null   int64  \n",
      " 42  2ndFlrSF       1460 non-null   int64  \n",
      " 43  LowQualFinSF   1460 non-null   int64  \n",
      " 44  GrLivArea      1460 non-null   int64  \n",
      " 45  BsmtFullBath   1460 non-null   int64  \n",
      " 46  BsmtHalfBath   1460 non-null   int64  \n",
      " 47  FullBath       1460 non-null   int64  \n",
      " 48  HalfBath       1460 non-null   int64  \n",
      " 49  BedroomAbvGr   1460 non-null   int64  \n",
      " 50  KitchenAbvGr   1460 non-null   int64  \n",
      " 51  KitchenQual    1460 non-null   object \n",
      " 52  TotRmsAbvGrd   1460 non-null   int64  \n",
      " 53  Functional     1460 non-null   object \n",
      " 54  Fireplaces     1460 non-null   int64  \n",
      " 55  GarageType     1379 non-null   object \n",
      " 56  GarageYrBlt    1379 non-null   float64\n",
      " 57  GarageFinish   1379 non-null   object \n",
      " 58  GarageCars     1460 non-null   int64  \n",
      " 59  GarageArea     1460 non-null   int64  \n",
      " 60  GarageQual     1379 non-null   object \n",
      " 61  GarageCond     1379 non-null   object \n",
      " 62  PavedDrive     1460 non-null   object \n",
      " 63  WoodDeckSF     1460 non-null   int64  \n",
      " 64  OpenPorchSF    1460 non-null   int64  \n",
      " 65  EnclosedPorch  1460 non-null   int64  \n",
      " 66  3SsnPorch      1460 non-null   int64  \n",
      " 67  ScreenPorch    1460 non-null   int64  \n",
      " 68  PoolArea       1460 non-null   int64  \n",
      " 69  MiscVal        1460 non-null   int64  \n",
      " 70  MoSold         1460 non-null   int64  \n",
      " 71  YrSold         1460 non-null   int64  \n",
      " 72  SaleType       1460 non-null   object \n",
      " 73  SaleCondition  1460 non-null   object \n",
      "dtypes: float64(3), int64(33), object(38)\n",
      "memory usage: 855.5+ KB\n"
     ]
    }
   ],
   "source": [
    "# Check dataframe after removing columns\n",
    "train_dataframe.info()"
   ]
  },
  {
   "cell_type": "code",
   "execution_count": 8,
   "id": "503a6c71",
   "metadata": {
    "scrolled": true
   },
   "outputs": [],
   "source": [
    "# Take important features\n",
    "features = [\n",
    "            \"MSSubClass\", \"MSZoning\", \"LotFrontage\", \"LotArea\", \"Street\", \"LandContour\", \"Utilities\", \"LotConfig\", \n",
    "            \"Neighborhood\", \"Condition1\", \"Condition2\", \"BldgType\", \"HouseStyle\", \"OverallQual\", \"OverallCond\", \n",
    "            \"YearBuilt\", \"YearRemodAdd\", \"RoofMatl\", \"Exterior1st\", \"Exterior2nd\", \"MasVnrType\", \"MasVnrArea\", \n",
    "            \"ExterQual\", \"ExterCond\", \"Foundation\", \"BsmtQual\", \"BsmtCond\", \"BsmtExposure\", \"BsmtFinType1\", \n",
    "            \"BsmtFinSF1\", \"BsmtFinType2\", \"BsmtFinSF2\", \"BsmtUnfSF\", \"TotalBsmtSF\", \"Heating\", \"HeatingQC\", \n",
    "            \"CentralAir\", \"Electrical\", \"1stFlrSF\", \"2ndFlrSF\", \"LowQualFinSF\", \"GrLivArea\", \"BsmtFullBath\", \n",
    "            \"BsmtHalfBath\", \"FullBath\", \"HalfBath\", \"BedroomAbvGr\", \"KitchenAbvGr\", \"KitchenQual\", \"TotRmsAbvGrd\",\n",
    "            \"Functional\", \"Fireplaces\", \"GarageType\", \"GarageFinish\", \"GarageCars\", \"GarageArea\", \"GarageQual\", \n",
    "            \"GarageCond\", \"PavedDrive\", \"WoodDeckSF\", \"OpenPorchSF\", \"EnclosedPorch\", \"3SsnPorch\", \"ScreenPorch\", \n",
    "            \"PoolArea\", \"MiscVal\", \"MoSold\", \"YrSold\", \"SaleType\", \"SaleCondition\" \n",
    "           ]\n",
    "\n",
    "# Take samples with necessary data columns\n",
    "test_dataframe = test_dataframe[features].copy()\n",
    "train_dataframe = train_dataframe[features].copy()"
   ]
  },
  {
   "cell_type": "code",
   "execution_count": 9,
   "id": "a39732ca",
   "metadata": {
    "scrolled": true
   },
   "outputs": [
    {
     "name": "stdout",
     "output_type": "stream",
     "text": [
      "<class 'pandas.core.frame.DataFrame'>\n",
      "Int64Index: 1460 entries, 1 to 1460\n",
      "Data columns (total 70 columns):\n",
      " #   Column         Non-Null Count  Dtype  \n",
      "---  ------         --------------  -----  \n",
      " 0   MSSubClass     1460 non-null   int64  \n",
      " 1   MSZoning       1460 non-null   object \n",
      " 2   LotFrontage    1201 non-null   float64\n",
      " 3   LotArea        1460 non-null   int64  \n",
      " 4   Street         1460 non-null   object \n",
      " 5   LandContour    1460 non-null   object \n",
      " 6   Utilities      1460 non-null   object \n",
      " 7   LotConfig      1460 non-null   object \n",
      " 8   Neighborhood   1460 non-null   object \n",
      " 9   Condition1     1460 non-null   object \n",
      " 10  Condition2     1460 non-null   object \n",
      " 11  BldgType       1460 non-null   object \n",
      " 12  HouseStyle     1460 non-null   object \n",
      " 13  OverallQual    1460 non-null   int64  \n",
      " 14  OverallCond    1460 non-null   int64  \n",
      " 15  YearBuilt      1460 non-null   int64  \n",
      " 16  YearRemodAdd   1460 non-null   int64  \n",
      " 17  RoofMatl       1460 non-null   object \n",
      " 18  Exterior1st    1460 non-null   object \n",
      " 19  Exterior2nd    1460 non-null   object \n",
      " 20  MasVnrType     1452 non-null   object \n",
      " 21  MasVnrArea     1452 non-null   float64\n",
      " 22  ExterQual      1460 non-null   object \n",
      " 23  ExterCond      1460 non-null   object \n",
      " 24  Foundation     1460 non-null   object \n",
      " 25  BsmtQual       1423 non-null   object \n",
      " 26  BsmtCond       1423 non-null   object \n",
      " 27  BsmtExposure   1422 non-null   object \n",
      " 28  BsmtFinType1   1423 non-null   object \n",
      " 29  BsmtFinSF1     1460 non-null   int64  \n",
      " 30  BsmtFinType2   1422 non-null   object \n",
      " 31  BsmtFinSF2     1460 non-null   int64  \n",
      " 32  BsmtUnfSF      1460 non-null   int64  \n",
      " 33  TotalBsmtSF    1460 non-null   int64  \n",
      " 34  Heating        1460 non-null   object \n",
      " 35  HeatingQC      1460 non-null   object \n",
      " 36  CentralAir     1460 non-null   object \n",
      " 37  Electrical     1459 non-null   object \n",
      " 38  1stFlrSF       1460 non-null   int64  \n",
      " 39  2ndFlrSF       1460 non-null   int64  \n",
      " 40  LowQualFinSF   1460 non-null   int64  \n",
      " 41  GrLivArea      1460 non-null   int64  \n",
      " 42  BsmtFullBath   1460 non-null   int64  \n",
      " 43  BsmtHalfBath   1460 non-null   int64  \n",
      " 44  FullBath       1460 non-null   int64  \n",
      " 45  HalfBath       1460 non-null   int64  \n",
      " 46  BedroomAbvGr   1460 non-null   int64  \n",
      " 47  KitchenAbvGr   1460 non-null   int64  \n",
      " 48  KitchenQual    1460 non-null   object \n",
      " 49  TotRmsAbvGrd   1460 non-null   int64  \n",
      " 50  Functional     1460 non-null   object \n",
      " 51  Fireplaces     1460 non-null   int64  \n",
      " 52  GarageType     1379 non-null   object \n",
      " 53  GarageFinish   1379 non-null   object \n",
      " 54  GarageCars     1460 non-null   int64  \n",
      " 55  GarageArea     1460 non-null   int64  \n",
      " 56  GarageQual     1379 non-null   object \n",
      " 57  GarageCond     1379 non-null   object \n",
      " 58  PavedDrive     1460 non-null   object \n",
      " 59  WoodDeckSF     1460 non-null   int64  \n",
      " 60  OpenPorchSF    1460 non-null   int64  \n",
      " 61  EnclosedPorch  1460 non-null   int64  \n",
      " 62  3SsnPorch      1460 non-null   int64  \n",
      " 63  ScreenPorch    1460 non-null   int64  \n",
      " 64  PoolArea       1460 non-null   int64  \n",
      " 65  MiscVal        1460 non-null   int64  \n",
      " 66  MoSold         1460 non-null   int64  \n",
      " 67  YrSold         1460 non-null   int64  \n",
      " 68  SaleType       1460 non-null   object \n",
      " 69  SaleCondition  1460 non-null   object \n",
      "dtypes: float64(2), int64(33), object(35)\n",
      "memory usage: 809.8+ KB\n"
     ]
    }
   ],
   "source": [
    "# Check again dataframe\n",
    "train_dataframe.info()"
   ]
  },
  {
   "cell_type": "markdown",
   "id": "0c098647",
   "metadata": {},
   "source": [
    "#### WORK WITH MISSING VALUE"
   ]
  },
  {
   "cell_type": "code",
   "execution_count": 10,
   "id": "4fd7655d",
   "metadata": {
    "scrolled": true
   },
   "outputs": [],
   "source": [
    "# Check columns with NaN values\n",
    "nan_columns = [column for column in train_dataframe.columns if train_dataframe[column].isnull().any()]"
   ]
  },
  {
   "cell_type": "code",
   "execution_count": 11,
   "id": "a7afa33f",
   "metadata": {
    "scrolled": false
   },
   "outputs": [
    {
     "name": "stdout",
     "output_type": "stream",
     "text": [
      "<class 'pandas.core.frame.DataFrame'>\n",
      "Int64Index: 1460 entries, 1 to 1460\n",
      "Data columns (total 13 columns):\n",
      " #   Column        Non-Null Count  Dtype  \n",
      "---  ------        --------------  -----  \n",
      " 0   LotFrontage   1201 non-null   float64\n",
      " 1   MasVnrType    1452 non-null   object \n",
      " 2   MasVnrArea    1452 non-null   float64\n",
      " 3   BsmtQual      1423 non-null   object \n",
      " 4   BsmtCond      1423 non-null   object \n",
      " 5   BsmtExposure  1422 non-null   object \n",
      " 6   BsmtFinType1  1423 non-null   object \n",
      " 7   BsmtFinType2  1422 non-null   object \n",
      " 8   Electrical    1459 non-null   object \n",
      " 9   GarageType    1379 non-null   object \n",
      " 10  GarageFinish  1379 non-null   object \n",
      " 11  GarageQual    1379 non-null   object \n",
      " 12  GarageCond    1379 non-null   object \n",
      "dtypes: float64(2), object(11)\n",
      "memory usage: 159.7+ KB\n"
     ]
    }
   ],
   "source": [
    "# Check only columns with NaN\n",
    "train_dataframe[nan_columns].info()"
   ]
  },
  {
   "cell_type": "code",
   "execution_count": 12,
   "id": "45e19b82",
   "metadata": {
    "scrolled": true
   },
   "outputs": [],
   "source": [
    "# Take numerical and categorical columns with NaN values\n",
    "categorical_nan_columns = pd.DataFrame(train_dataframe[nan_columns].select_dtypes(include=[\"object\"]).copy())\n",
    "numerical_nan_columns = pd.DataFrame(train_dataframe[nan_columns].select_dtypes(include=[\"float64\", \"int64\"]).copy())\n",
    "\n",
    "# Delete columns with NaN value in train dataframe\n",
    "train_dataframe.drop(columns=nan_columns, axis=1, inplace=True)"
   ]
  },
  {
   "cell_type": "markdown",
   "id": "a4fed6d7",
   "metadata": {},
   "source": [
    "#### WORK WITH NUMERICAL DATA"
   ]
  },
  {
   "cell_type": "code",
   "execution_count": 13,
   "id": "bde8a3b5",
   "metadata": {
    "scrolled": true
   },
   "outputs": [
    {
     "name": "stdout",
     "output_type": "stream",
     "text": [
      "<class 'pandas.core.frame.DataFrame'>\n",
      "Int64Index: 1460 entries, 1 to 1460\n",
      "Data columns (total 2 columns):\n",
      " #   Column       Non-Null Count  Dtype  \n",
      "---  ------       --------------  -----  \n",
      " 0   LotFrontage  1201 non-null   float64\n",
      " 1   MasVnrArea   1452 non-null   float64\n",
      "dtypes: float64(2)\n",
      "memory usage: 34.2 KB\n"
     ]
    }
   ],
   "source": [
    "# Check numerical data \n",
    "numerical_nan_columns.info()"
   ]
  },
  {
   "cell_type": "code",
   "execution_count": 14,
   "id": "83c13675",
   "metadata": {
    "scrolled": true
   },
   "outputs": [
    {
     "data": {
      "image/png": "[encoded data removed]",
      "text/plain": [
       "<Figure size 500x500 with 1 Axes>"
      ]
     },
     "metadata": {},
     "output_type": "display_data"
    }
   ],
   "source": [
    "# Check the form of feature distribution\n",
    "sns.displot(numerical_nan_columns.LotFrontage);"
   ]
  },
  {
   "cell_type": "code",
   "execution_count": 15,
   "id": "c7ddaee4",
   "metadata": {
    "scrolled": true
   },
   "outputs": [
    {
     "data": {
      "image/png": "[encoded data removed]",
      "text/plain": [
       "<Figure size 800x400 with 1 Axes>"
      ]
     },
     "metadata": {},
     "output_type": "display_data"
    }
   ],
   "source": [
    "# Check extreme values on boxplot\n",
    "sns.boxplot(x=numerical_nan_columns.LotFrontage);"
   ]
  },
  {
   "cell_type": "code",
   "execution_count": 16,
   "id": "ac257bb4",
   "metadata": {},
   "outputs": [
    {
     "data": {
      "text/html": [
       "<div>\n",
       "<style scoped>\n",
       "    .dataframe tbody tr th:only-of-type {\n",
       "        vertical-align: middle;\n",
       "    }\n",
       "\n",
       "    .dataframe tbody tr th {\n",
       "        vertical-align: top;\n",
       "    }\n",
       "\n",
       "    .dataframe thead th {\n",
       "        text-align: right;\n",
       "    }\n",
       "</style>\n",
       "<table border=\"1\" class=\"dataframe\">\n",
       "  <thead>\n",
       "    <tr style=\"text-align: right;\">\n",
       "      <th></th>\n",
       "      <th>LotFrontage</th>\n",
       "      <th>MasVnrArea</th>\n",
       "    </tr>\n",
       "  </thead>\n",
       "  <tbody>\n",
       "    <tr>\n",
       "      <th>count</th>\n",
       "      <td>1201.000000</td>\n",
       "      <td>1452.000000</td>\n",
       "    </tr>\n",
       "    <tr>\n",
       "      <th>mean</th>\n",
       "      <td>70.049958</td>\n",
       "      <td>103.685262</td>\n",
       "    </tr>\n",
       "    <tr>\n",
       "      <th>std</th>\n",
       "      <td>24.284752</td>\n",
       "      <td>181.066207</td>\n",
       "    </tr>\n",
       "    <tr>\n",
       "      <th>min</th>\n",
       "      <td>21.000000</td>\n",
       "      <td>0.000000</td>\n",
       "    </tr>\n",
       "    <tr>\n",
       "      <th>25%</th>\n",
       "      <td>59.000000</td>\n",
       "      <td>0.000000</td>\n",
       "    </tr>\n",
       "    <tr>\n",
       "      <th>50%</th>\n",
       "      <td>69.000000</td>\n",
       "      <td>0.000000</td>\n",
       "    </tr>\n",
       "    <tr>\n",
       "      <th>75%</th>\n",
       "      <td>80.000000</td>\n",
       "      <td>166.000000</td>\n",
       "    </tr>\n",
       "    <tr>\n",
       "      <th>max</th>\n",
       "      <td>313.000000</td>\n",
       "      <td>1600.000000</td>\n",
       "    </tr>\n",
       "  </tbody>\n",
       "</table>\n",
       "</div>"
      ],
      "text/plain": [
       "       LotFrontage   MasVnrArea\n",
       "count  1201.000000  1452.000000\n",
       "mean     70.049958   103.685262\n",
       "std      24.284752   181.066207\n",
       "min      21.000000     0.000000\n",
       "25%      59.000000     0.000000\n",
       "50%      69.000000     0.000000\n",
       "75%      80.000000   166.000000\n",
       "max     313.000000  1600.000000"
      ]
     },
     "execution_count": 16,
     "metadata": {},
     "output_type": "execute_result"
    }
   ],
   "source": [
    "# Check mean and variance of numerical data\n",
    "numerical_nan_columns.describe()"
   ]
  },
  {
   "cell_type": "code",
   "execution_count": 17,
   "id": "28ad444d",
   "metadata": {},
   "outputs": [],
   "source": [
    "# We have normal percent of missing value, distribution isn't normal, many emissions values and normal variance. \n",
    "# It means that we need to use imputation with median value.\n",
    "\n",
    "# Fill all NaN entities\n",
    "numerical_nan_columns.LotFrontage.fillna(numerical_nan_columns.LotFrontage.dropna().median(), inplace=True)"
   ]
  },
  {
   "cell_type": "code",
   "execution_count": 18,
   "id": "d2928627",
   "metadata": {},
   "outputs": [
    {
     "name": "stdout",
     "output_type": "stream",
     "text": [
      "<class 'pandas.core.series.Series'>\n",
      "Int64Index: 1460 entries, 1 to 1460\n",
      "Series name: LotFrontage\n",
      "Non-Null Count  Dtype  \n",
      "--------------  -----  \n",
      "1460 non-null   float64\n",
      "dtypes: float64(1)\n",
      "memory usage: 22.8 KB\n"
     ]
    }
   ],
   "source": [
    "# Check updated column\n",
    "numerical_nan_columns.LotFrontage.info()"
   ]
  },
  {
   "cell_type": "code",
   "execution_count": 19,
   "id": "fe2fe5a6",
   "metadata": {
    "scrolled": true
   },
   "outputs": [
    {
     "data": {
      "image/png": "[encoded data removed]",
      "text/plain": [
       "<Figure size 500x500 with 1 Axes>"
      ]
     },
     "metadata": {},
     "output_type": "display_data"
    }
   ],
   "source": [
    "# Check distributions another of numerical feature\n",
    "sns.displot(numerical_nan_columns.MasVnrArea);"
   ]
  },
  {
   "cell_type": "code",
   "execution_count": 20,
   "id": "56410142",
   "metadata": {
    "scrolled": true
   },
   "outputs": [
    {
     "data": {
      "image/png": "[encoded data removed]",
      "text/plain": [
       "<Figure size 800x400 with 1 Axes>"
      ]
     },
     "metadata": {},
     "output_type": "display_data"
    }
   ],
   "source": [
    "# Check extreme values of feature on boxplot\n",
    "sns.boxplot(x=numerical_nan_columns.MasVnrArea);"
   ]
  },
  {
   "cell_type": "code",
   "execution_count": 21,
   "id": "f35f6103",
   "metadata": {},
   "outputs": [],
   "source": [
    "# In this case we need to use external imputation with mode value of feature.\n",
    "\n",
    "# Create column of flag of feature missing values\n",
    "numerical_nan_columns[\"MasVnrAreaFlag\"] = numerical_nan_columns.MasVnrArea.isnull().astype(int)\n",
    "\n",
    "# Fill NaN column\n",
    "numerical_nan_columns.MasVnrArea.fillna(0, inplace=True)"
   ]
  },
  {
   "cell_type": "code",
   "execution_count": 22,
   "id": "90fd71e4",
   "metadata": {},
   "outputs": [
    {
     "name": "stdout",
     "output_type": "stream",
     "text": [
      "<class 'pandas.core.frame.DataFrame'>\n",
      "Int64Index: 1460 entries, 1 to 1460\n",
      "Data columns (total 3 columns):\n",
      " #   Column          Non-Null Count  Dtype  \n",
      "---  ------          --------------  -----  \n",
      " 0   LotFrontage     1460 non-null   float64\n",
      " 1   MasVnrArea      1460 non-null   float64\n",
      " 2   MasVnrAreaFlag  1460 non-null   int32  \n",
      "dtypes: float64(2), int32(1)\n",
      "memory usage: 39.9 KB\n"
     ]
    }
   ],
   "source": [
    "# Check that we plug NaN numerical values\n",
    "numerical_nan_columns.info()"
   ]
  },
  {
   "cell_type": "markdown",
   "id": "8b8b0813",
   "metadata": {},
   "source": [
    "#### WORK WITH CATEGORICAL DATA"
   ]
  },
  {
   "cell_type": "code",
   "execution_count": 23,
   "id": "c089f91d",
   "metadata": {
    "scrolled": true
   },
   "outputs": [
    {
     "name": "stdout",
     "output_type": "stream",
     "text": [
      "<class 'pandas.core.frame.DataFrame'>\n",
      "Int64Index: 1460 entries, 1 to 1460\n",
      "Data columns (total 11 columns):\n",
      " #   Column        Non-Null Count  Dtype \n",
      "---  ------        --------------  ----- \n",
      " 0   MasVnrType    1452 non-null   object\n",
      " 1   BsmtQual      1423 non-null   object\n",
      " 2   BsmtCond      1423 non-null   object\n",
      " 3   BsmtExposure  1422 non-null   object\n",
      " 4   BsmtFinType1  1423 non-null   object\n",
      " 5   BsmtFinType2  1422 non-null   object\n",
      " 6   Electrical    1459 non-null   object\n",
      " 7   GarageType    1379 non-null   object\n",
      " 8   GarageFinish  1379 non-null   object\n",
      " 9   GarageQual    1379 non-null   object\n",
      " 10  GarageCond    1379 non-null   object\n",
      "dtypes: object(11)\n",
      "memory usage: 136.9+ KB\n"
     ]
    }
   ],
   "source": [
    "# Check categorical data with NaN values\n",
    "categorical_nan_columns.info()"
   ]
  },
  {
   "cell_type": "code",
   "execution_count": 24,
   "id": "e7bf2e57",
   "metadata": {},
   "outputs": [
    {
     "data": {
      "text/plain": [
       "None       864\n",
       "BrkFace    445\n",
       "Stone      128\n",
       "BrkCmn      15\n",
       "Name: MasVnrType, dtype: int64"
      ]
     },
     "execution_count": 24,
     "metadata": {},
     "output_type": "execute_result"
    }
   ],
   "source": [
    "# Check categorical feature distribution\n",
    "categorical_nan_columns.MasVnrType.value_counts()"
   ]
  },
  {
   "cell_type": "code",
   "execution_count": 25,
   "id": "9d0db900",
   "metadata": {},
   "outputs": [
    {
     "data": {
      "text/plain": [
       "TA    649\n",
       "Gd    618\n",
       "Ex    121\n",
       "Fa     35\n",
       "Name: BsmtQual, dtype: int64"
      ]
     },
     "execution_count": 25,
     "metadata": {},
     "output_type": "execute_result"
    }
   ],
   "source": [
    "# Check categorical feature distribution\n",
    "categorical_nan_columns.BsmtQual.value_counts()"
   ]
  },
  {
   "cell_type": "code",
   "execution_count": 26,
   "id": "1330b9ee",
   "metadata": {},
   "outputs": [
    {
     "data": {
      "text/plain": [
       "TA    1311\n",
       "Gd      65\n",
       "Fa      45\n",
       "Po       2\n",
       "Name: BsmtCond, dtype: int64"
      ]
     },
     "execution_count": 26,
     "metadata": {},
     "output_type": "execute_result"
    }
   ],
   "source": [
    "# Check categorical feature distribution\n",
    "categorical_nan_columns.BsmtCond.value_counts()"
   ]
  },
  {
   "cell_type": "code",
   "execution_count": 27,
   "id": "607050b1",
   "metadata": {},
   "outputs": [
    {
     "data": {
      "text/plain": [
       "No    953\n",
       "Av    221\n",
       "Gd    134\n",
       "Mn    114\n",
       "Name: BsmtExposure, dtype: int64"
      ]
     },
     "execution_count": 27,
     "metadata": {},
     "output_type": "execute_result"
    }
   ],
   "source": [
    "# Check categorical feature distribution\n",
    "categorical_nan_columns.BsmtExposure.value_counts()"
   ]
  },
  {
   "cell_type": "code",
   "execution_count": 28,
   "id": "01766ea2",
   "metadata": {},
   "outputs": [
    {
     "data": {
      "text/plain": [
       "Unf    430\n",
       "GLQ    418\n",
       "ALQ    220\n",
       "BLQ    148\n",
       "Rec    133\n",
       "LwQ     74\n",
       "Name: BsmtFinType1, dtype: int64"
      ]
     },
     "execution_count": 28,
     "metadata": {},
     "output_type": "execute_result"
    }
   ],
   "source": [
    "# Check categorical feature distribution\n",
    "categorical_nan_columns.BsmtFinType1.value_counts()"
   ]
  },
  {
   "cell_type": "code",
   "execution_count": 29,
   "id": "3d6561f1",
   "metadata": {},
   "outputs": [
    {
     "data": {
      "text/plain": [
       "Unf    1256\n",
       "Rec      54\n",
       "LwQ      46\n",
       "BLQ      33\n",
       "ALQ      19\n",
       "GLQ      14\n",
       "Name: BsmtFinType2, dtype: int64"
      ]
     },
     "execution_count": 29,
     "metadata": {},
     "output_type": "execute_result"
    }
   ],
   "source": [
    "# Check categorical feature distribution\n",
    "categorical_nan_columns.BsmtFinType2.value_counts()"
   ]
  },
  {
   "cell_type": "code",
   "execution_count": 30,
   "id": "8bc509ab",
   "metadata": {},
   "outputs": [
    {
     "data": {
      "text/plain": [
       "SBrkr    1334\n",
       "FuseA      94\n",
       "FuseF      27\n",
       "FuseP       3\n",
       "Mix         1\n",
       "Name: Electrical, dtype: int64"
      ]
     },
     "execution_count": 30,
     "metadata": {},
     "output_type": "execute_result"
    }
   ],
   "source": [
    "# Check categorical feature distribution\n",
    "categorical_nan_columns.Electrical.value_counts()"
   ]
  },
  {
   "cell_type": "code",
   "execution_count": 31,
   "id": "7f9ba08e",
   "metadata": {},
   "outputs": [
    {
     "data": {
      "text/plain": [
       "Attchd     870\n",
       "Detchd     387\n",
       "BuiltIn     88\n",
       "Basment     19\n",
       "CarPort      9\n",
       "2Types       6\n",
       "Name: GarageType, dtype: int64"
      ]
     },
     "execution_count": 31,
     "metadata": {},
     "output_type": "execute_result"
    }
   ],
   "source": [
    "# Check categorical feature distribution\n",
    "categorical_nan_columns.GarageType.value_counts()"
   ]
  },
  {
   "cell_type": "code",
   "execution_count": 32,
   "id": "c4629d6d",
   "metadata": {},
   "outputs": [
    {
     "data": {
      "text/plain": [
       "Unf    605\n",
       "RFn    422\n",
       "Fin    352\n",
       "Name: GarageFinish, dtype: int64"
      ]
     },
     "execution_count": 32,
     "metadata": {},
     "output_type": "execute_result"
    }
   ],
   "source": [
    "# Check categorical feature distribution\n",
    "categorical_nan_columns.GarageFinish.value_counts()"
   ]
  },
  {
   "cell_type": "code",
   "execution_count": 33,
   "id": "3bed889c",
   "metadata": {},
   "outputs": [
    {
     "data": {
      "text/plain": [
       "TA    1311\n",
       "Fa      48\n",
       "Gd      14\n",
       "Ex       3\n",
       "Po       3\n",
       "Name: GarageQual, dtype: int64"
      ]
     },
     "execution_count": 33,
     "metadata": {},
     "output_type": "execute_result"
    }
   ],
   "source": [
    "# Check categorical feature distribution\n",
    "categorical_nan_columns.GarageQual.value_counts()"
   ]
  },
  {
   "cell_type": "code",
   "execution_count": 34,
   "id": "19a08f36",
   "metadata": {},
   "outputs": [
    {
     "data": {
      "text/plain": [
       "TA    1326\n",
       "Fa      35\n",
       "Gd       9\n",
       "Po       7\n",
       "Ex       2\n",
       "Name: GarageCond, dtype: int64"
      ]
     },
     "execution_count": 34,
     "metadata": {},
     "output_type": "execute_result"
    }
   ],
   "source": [
    "# Check categorical feature distribution\n",
    "categorical_nan_columns.GarageCond.value_counts()"
   ]
  },
  {
   "cell_type": "code",
   "execution_count": 35,
   "id": "e73cd6ab",
   "metadata": {
    "scrolled": false
   },
   "outputs": [],
   "source": [
    "# The columns which we fill by new value\n",
    "unknown_categories = [\"BsmtQual\", \"BsmtFinType1\", \"GarageFinish\"]\n",
    "\n",
    "# The columns which we fill by the most frequent value (because the most frequent value dominate in their distribution)\n",
    "dominate_categories = [\n",
    "                        \"MasVnrType\", \"BsmtCond\", \"BsmtExposure\", \"BsmtFinType2\", \"Electrical\", \"GarageType\", \n",
    "                        \"GarageQual\", \"GarageCond\"\n",
    "                      ]\n",
    "\n",
    "# Filling categorical NaN columns\n",
    "[categorical_nan_columns[column].fillna(\"Unknown\", inplace=True) for column in unknown_categories]\n",
    "[categorical_nan_columns[column].fillna(categorical_nan_columns[column].value_counts().index[0], \n",
    "                                                   inplace=True) for column in dominate_categories];"
   ]
  },
  {
   "cell_type": "code",
   "execution_count": 36,
   "id": "4728397b",
   "metadata": {},
   "outputs": [
    {
     "name": "stdout",
     "output_type": "stream",
     "text": [
      "<class 'pandas.core.frame.DataFrame'>\n",
      "Int64Index: 1460 entries, 1 to 1460\n",
      "Data columns (total 11 columns):\n",
      " #   Column        Non-Null Count  Dtype \n",
      "---  ------        --------------  ----- \n",
      " 0   MasVnrType    1460 non-null   object\n",
      " 1   BsmtQual      1460 non-null   object\n",
      " 2   BsmtCond      1460 non-null   object\n",
      " 3   BsmtExposure  1460 non-null   object\n",
      " 4   BsmtFinType1  1460 non-null   object\n",
      " 5   BsmtFinType2  1460 non-null   object\n",
      " 6   Electrical    1460 non-null   object\n",
      " 7   GarageType    1460 non-null   object\n",
      " 8   GarageFinish  1460 non-null   object\n",
      " 9   GarageQual    1460 non-null   object\n",
      " 10  GarageCond    1460 non-null   object\n",
      "dtypes: object(11)\n",
      "memory usage: 136.9+ KB\n"
     ]
    }
   ],
   "source": [
    "# Check that we put the data\n",
    "categorical_nan_columns.info()"
   ]
  },
  {
   "cell_type": "code",
   "execution_count": 37,
   "id": "7a6959af",
   "metadata": {
    "scrolled": true
   },
   "outputs": [],
   "source": [
    "# Full prepare training data\n",
    "train_dataframe = pd.concat([train_dataframe, categorical_nan_columns, numerical_nan_columns], axis=1).copy()"
   ]
  },
  {
   "cell_type": "code",
   "execution_count": 38,
   "id": "5e44c86f",
   "metadata": {
    "scrolled": true
   },
   "outputs": [
    {
     "name": "stdout",
     "output_type": "stream",
     "text": [
      "<class 'pandas.core.frame.DataFrame'>\n",
      "Int64Index: 1460 entries, 1 to 1460\n",
      "Data columns (total 71 columns):\n",
      " #   Column          Non-Null Count  Dtype  \n",
      "---  ------          --------------  -----  \n",
      " 0   MSSubClass      1460 non-null   int64  \n",
      " 1   MSZoning        1460 non-null   object \n",
      " 2   LotArea         1460 non-null   int64  \n",
      " 3   Street          1460 non-null   object \n",
      " 4   LandContour     1460 non-null   object \n",
      " 5   Utilities       1460 non-null   object \n",
      " 6   LotConfig       1460 non-null   object \n",
      " 7   Neighborhood    1460 non-null   object \n",
      " 8   Condition1      1460 non-null   object \n",
      " 9   Condition2      1460 non-null   object \n",
      " 10  BldgType        1460 non-null   object \n",
      " 11  HouseStyle      1460 non-null   object \n",
      " 12  OverallQual     1460 non-null   int64  \n",
      " 13  OverallCond     1460 non-null   int64  \n",
      " 14  YearBuilt       1460 non-null   int64  \n",
      " 15  YearRemodAdd    1460 non-null   int64  \n",
      " 16  RoofMatl        1460 non-null   object \n",
      " 17  Exterior1st     1460 non-null   object \n",
      " 18  Exterior2nd     1460 non-null   object \n",
      " 19  ExterQual       1460 non-null   object \n",
      " 20  ExterCond       1460 non-null   object \n",
      " 21  Foundation      1460 non-null   object \n",
      " 22  BsmtFinSF1      1460 non-null   int64  \n",
      " 23  BsmtFinSF2      1460 non-null   int64  \n",
      " 24  BsmtUnfSF       1460 non-null   int64  \n",
      " 25  TotalBsmtSF     1460 non-null   int64  \n",
      " 26  Heating         1460 non-null   object \n",
      " 27  HeatingQC       1460 non-null   object \n",
      " 28  CentralAir      1460 non-null   object \n",
      " 29  1stFlrSF        1460 non-null   int64  \n",
      " 30  2ndFlrSF        1460 non-null   int64  \n",
      " 31  LowQualFinSF    1460 non-null   int64  \n",
      " 32  GrLivArea       1460 non-null   int64  \n",
      " 33  BsmtFullBath    1460 non-null   int64  \n",
      " 34  BsmtHalfBath    1460 non-null   int64  \n",
      " 35  FullBath        1460 non-null   int64  \n",
      " 36  HalfBath        1460 non-null   int64  \n",
      " 37  BedroomAbvGr    1460 non-null   int64  \n",
      " 38  KitchenAbvGr    1460 non-null   int64  \n",
      " 39  KitchenQual     1460 non-null   object \n",
      " 40  TotRmsAbvGrd    1460 non-null   int64  \n",
      " 41  Functional      1460 non-null   object \n",
      " 42  Fireplaces      1460 non-null   int64  \n",
      " 43  GarageCars      1460 non-null   int64  \n",
      " 44  GarageArea      1460 non-null   int64  \n",
      " 45  PavedDrive      1460 non-null   object \n",
      " 46  WoodDeckSF      1460 non-null   int64  \n",
      " 47  OpenPorchSF     1460 non-null   int64  \n",
      " 48  EnclosedPorch   1460 non-null   int64  \n",
      " 49  3SsnPorch       1460 non-null   int64  \n",
      " 50  ScreenPorch     1460 non-null   int64  \n",
      " 51  PoolArea        1460 non-null   int64  \n",
      " 52  MiscVal         1460 non-null   int64  \n",
      " 53  MoSold          1460 non-null   int64  \n",
      " 54  YrSold          1460 non-null   int64  \n",
      " 55  SaleType        1460 non-null   object \n",
      " 56  SaleCondition   1460 non-null   object \n",
      " 57  MasVnrType      1460 non-null   object \n",
      " 58  BsmtQual        1460 non-null   object \n",
      " 59  BsmtCond        1460 non-null   object \n",
      " 60  BsmtExposure    1460 non-null   object \n",
      " 61  BsmtFinType1    1460 non-null   object \n",
      " 62  BsmtFinType2    1460 non-null   object \n",
      " 63  Electrical      1460 non-null   object \n",
      " 64  GarageType      1460 non-null   object \n",
      " 65  GarageFinish    1460 non-null   object \n",
      " 66  GarageQual      1460 non-null   object \n",
      " 67  GarageCond      1460 non-null   object \n",
      " 68  LotFrontage     1460 non-null   float64\n",
      " 69  MasVnrArea      1460 non-null   float64\n",
      " 70  MasVnrAreaFlag  1460 non-null   int32  \n",
      "dtypes: float64(2), int32(1), int64(33), object(35)\n",
      "memory usage: 815.5+ KB\n"
     ]
    }
   ],
   "source": [
    "# Check train data\n",
    "train_dataframe.info()"
   ]
  },
  {
   "cell_type": "markdown",
   "id": "2e9ebb1a",
   "metadata": {},
   "source": [
    "#### SEPARATE PROCESSING"
   ]
  },
  {
   "cell_type": "code",
   "execution_count": 39,
   "id": "25c32c3c",
   "metadata": {
    "scrolled": true
   },
   "outputs": [],
   "source": [
    "# Take numerical data\n",
    "numerical_data = train_dataframe.select_dtypes(include=[\"float64\", \"int64\"]).copy()"
   ]
  },
  {
   "cell_type": "code",
   "execution_count": 40,
   "id": "82af9037",
   "metadata": {
    "scrolled": true
   },
   "outputs": [
    {
     "name": "stdout",
     "output_type": "stream",
     "text": [
      "<class 'pandas.core.frame.DataFrame'>\n",
      "Int64Index: 1460 entries, 1 to 1460\n",
      "Data columns (total 35 columns):\n",
      " #   Column         Non-Null Count  Dtype  \n",
      "---  ------         --------------  -----  \n",
      " 0   MSSubClass     1460 non-null   int64  \n",
      " 1   LotArea        1460 non-null   int64  \n",
      " 2   OverallQual    1460 non-null   int64  \n",
      " 3   OverallCond    1460 non-null   int64  \n",
      " 4   YearBuilt      1460 non-null   int64  \n",
      " 5   YearRemodAdd   1460 non-null   int64  \n",
      " 6   BsmtFinSF1     1460 non-null   int64  \n",
      " 7   BsmtFinSF2     1460 non-null   int64  \n",
      " 8   BsmtUnfSF      1460 non-null   int64  \n",
      " 9   TotalBsmtSF    1460 non-null   int64  \n",
      " 10  1stFlrSF       1460 non-null   int64  \n",
      " 11  2ndFlrSF       1460 non-null   int64  \n",
      " 12  LowQualFinSF   1460 non-null   int64  \n",
      " 13  GrLivArea      1460 non-null   int64  \n",
      " 14  BsmtFullBath   1460 non-null   int64  \n",
      " 15  BsmtHalfBath   1460 non-null   int64  \n",
      " 16  FullBath       1460 non-null   int64  \n",
      " 17  HalfBath       1460 non-null   int64  \n",
      " 18  BedroomAbvGr   1460 non-null   int64  \n",
      " 19  KitchenAbvGr   1460 non-null   int64  \n",
      " 20  TotRmsAbvGrd   1460 non-null   int64  \n",
      " 21  Fireplaces     1460 non-null   int64  \n",
      " 22  GarageCars     1460 non-null   int64  \n",
      " 23  GarageArea     1460 non-null   int64  \n",
      " 24  WoodDeckSF     1460 non-null   int64  \n",
      " 25  OpenPorchSF    1460 non-null   int64  \n",
      " 26  EnclosedPorch  1460 non-null   int64  \n",
      " 27  3SsnPorch      1460 non-null   int64  \n",
      " 28  ScreenPorch    1460 non-null   int64  \n",
      " 29  PoolArea       1460 non-null   int64  \n",
      " 30  MiscVal        1460 non-null   int64  \n",
      " 31  MoSold         1460 non-null   int64  \n",
      " 32  YrSold         1460 non-null   int64  \n",
      " 33  LotFrontage    1460 non-null   float64\n",
      " 34  MasVnrArea     1460 non-null   float64\n",
      "dtypes: float64(2), int64(33)\n",
      "memory usage: 410.6 KB\n"
     ]
    }
   ],
   "source": [
    "# Check numerical data\n",
    "numerical_data.info()"
   ]
  },
  {
   "cell_type": "code",
   "execution_count": 41,
   "id": "ab3a2112",
   "metadata": {
    "scrolled": true
   },
   "outputs": [],
   "source": [
    "# Take categorical data\n",
    "categorical_data = train_dataframe.select_dtypes(include=[\"object\"]).copy()"
   ]
  },
  {
   "cell_type": "code",
   "execution_count": 42,
   "id": "1d3c9417",
   "metadata": {
    "scrolled": true
   },
   "outputs": [
    {
     "name": "stdout",
     "output_type": "stream",
     "text": [
      "<class 'pandas.core.frame.DataFrame'>\n",
      "Int64Index: 1460 entries, 1 to 1460\n",
      "Data columns (total 35 columns):\n",
      " #   Column         Non-Null Count  Dtype \n",
      "---  ------         --------------  ----- \n",
      " 0   MSZoning       1460 non-null   object\n",
      " 1   Street         1460 non-null   object\n",
      " 2   LandContour    1460 non-null   object\n",
      " 3   Utilities      1460 non-null   object\n",
      " 4   LotConfig      1460 non-null   object\n",
      " 5   Neighborhood   1460 non-null   object\n",
      " 6   Condition1     1460 non-null   object\n",
      " 7   Condition2     1460 non-null   object\n",
      " 8   BldgType       1460 non-null   object\n",
      " 9   HouseStyle     1460 non-null   object\n",
      " 10  RoofMatl       1460 non-null   object\n",
      " 11  Exterior1st    1460 non-null   object\n",
      " 12  Exterior2nd    1460 non-null   object\n",
      " 13  ExterQual      1460 non-null   object\n",
      " 14  ExterCond      1460 non-null   object\n",
      " 15  Foundation     1460 non-null   object\n",
      " 16  Heating        1460 non-null   object\n",
      " 17  HeatingQC      1460 non-null   object\n",
      " 18  CentralAir     1460 non-null   object\n",
      " 19  KitchenQual    1460 non-null   object\n",
      " 20  Functional     1460 non-null   object\n",
      " 21  PavedDrive     1460 non-null   object\n",
      " 22  SaleType       1460 non-null   object\n",
      " 23  SaleCondition  1460 non-null   object\n",
      " 24  MasVnrType     1460 non-null   object\n",
      " 25  BsmtQual       1460 non-null   object\n",
      " 26  BsmtCond       1460 non-null   object\n",
      " 27  BsmtExposure   1460 non-null   object\n",
      " 28  BsmtFinType1   1460 non-null   object\n",
      " 29  BsmtFinType2   1460 non-null   object\n",
      " 30  Electrical     1460 non-null   object\n",
      " 31  GarageType     1460 non-null   object\n",
      " 32  GarageFinish   1460 non-null   object\n",
      " 33  GarageQual     1460 non-null   object\n",
      " 34  GarageCond     1460 non-null   object\n",
      "dtypes: object(35)\n",
      "memory usage: 410.6+ KB\n"
     ]
    }
   ],
   "source": [
    "# Check numerical data\n",
    "categorical_data.info()"
   ]
  },
  {
   "cell_type": "markdown",
   "id": "9784c9b8",
   "metadata": {},
   "source": [
    "#### ENCODING CATEGORICAL FEATURES"
   ]
  },
  {
   "cell_type": "code",
   "execution_count": 43,
   "id": "b9552f1a",
   "metadata": {
    "scrolled": true
   },
   "outputs": [],
   "source": [
    "# Columns which we must be deleted because we can't preprocess them (need one-hot, but has more than 15 unique values)\n",
    "drop_columns = [\"Neighborhood\", \"Exterior1st\", \"Exterior2nd\"]\n",
    "\n",
    "# Columns for ordinary encoding\n",
    "ordinar_columns = [\n",
    "                    \"LandContour\", \"Utilities\", \"BldgType\", \"HouseStyle\", \"ExterQual\", \"ExterCond\", \"HeatingQC\", \n",
    "                    \"CentralAir\", \"KitchenQual\", \"Functional\", \"BsmtQual\", \"BsmtCond\", \"BsmtExposure\", \"BsmtFinType1\",\n",
    "                    \"BsmtFinType2\", \"GarageFinish\", \"GarageQual\", \"GarageCond\"\n",
    "                  ]\n",
    "\n",
    "# Columns for one-hot encoding\n",
    "onehot_columns = [\n",
    "                    \"MSZoning\", \"Street\", \"LotConfig\", \"Condition1\", \"Condition2\", \"RoofMatl\", \"Foundation\", \"Heating\",\n",
    "                    \"PavedDrive\", \"SaleType\", \"SaleCondition\", \"MasVnrType\", \"Electrical\", \"GarageType\"\n",
    "                 ]\n",
    "\n",
    "# Drop columns\n",
    "categorical_data.drop(drop_columns, inplace=True, axis=1)"
   ]
  },
  {
   "cell_type": "code",
   "execution_count": 44,
   "id": "1282fa47",
   "metadata": {
    "scrolled": true
   },
   "outputs": [
    {
     "name": "stdout",
     "output_type": "stream",
     "text": [
      "<class 'pandas.core.frame.DataFrame'>\n",
      "Int64Index: 1460 entries, 1 to 1460\n",
      "Data columns (total 32 columns):\n",
      " #   Column         Non-Null Count  Dtype \n",
      "---  ------         --------------  ----- \n",
      " 0   MSZoning       1460 non-null   object\n",
      " 1   Street         1460 non-null   object\n",
      " 2   LandContour    1460 non-null   object\n",
      " 3   Utilities      1460 non-null   object\n",
      " 4   LotConfig      1460 non-null   object\n",
      " 5   Condition1     1460 non-null   object\n",
      " 6   Condition2     1460 non-null   object\n",
      " 7   BldgType       1460 non-null   object\n",
      " 8   HouseStyle     1460 non-null   object\n",
      " 9   RoofMatl       1460 non-null   object\n",
      " 10  ExterQual      1460 non-null   object\n",
      " 11  ExterCond      1460 non-null   object\n",
      " 12  Foundation     1460 non-null   object\n",
      " 13  Heating        1460 non-null   object\n",
      " 14  HeatingQC      1460 non-null   object\n",
      " 15  CentralAir     1460 non-null   object\n",
      " 16  KitchenQual    1460 non-null   object\n",
      " 17  Functional     1460 non-null   object\n",
      " 18  PavedDrive     1460 non-null   object\n",
      " 19  SaleType       1460 non-null   object\n",
      " 20  SaleCondition  1460 non-null   object\n",
      " 21  MasVnrType     1460 non-null   object\n",
      " 22  BsmtQual       1460 non-null   object\n",
      " 23  BsmtCond       1460 non-null   object\n",
      " 24  BsmtExposure   1460 non-null   object\n",
      " 25  BsmtFinType1   1460 non-null   object\n",
      " 26  BsmtFinType2   1460 non-null   object\n",
      " 27  Electrical     1460 non-null   object\n",
      " 28  GarageType     1460 non-null   object\n",
      " 29  GarageFinish   1460 non-null   object\n",
      " 30  GarageQual     1460 non-null   object\n",
      " 31  GarageCond     1460 non-null   object\n",
      "dtypes: object(32)\n",
      "memory usage: 376.4+ KB\n"
     ]
    }
   ],
   "source": [
    "# Check new updated categorical data\n",
    "categorical_data.info()"
   ]
  },
  {
   "cell_type": "markdown",
   "id": "42680250",
   "metadata": {},
   "source": [
    "#### ORDINAR ENCODING"
   ]
  },
  {
   "cell_type": "code",
   "execution_count": 45,
   "id": "c328df1d",
   "metadata": {
    "scrolled": true
   },
   "outputs": [],
   "source": [
    "# Create model for ordinar decoding\n",
    "ordinar_encoder = OrdinalEncoder()\n",
    "\n",
    "# Encode the categorical variables\n",
    "categorical_data[ordinar_columns] = ordinar_encoder.fit_transform(categorical_data[ordinar_columns])"
   ]
  },
  {
   "cell_type": "code",
   "execution_count": 46,
   "id": "b4525f9f",
   "metadata": {
    "scrolled": true
   },
   "outputs": [
    {
     "name": "stdout",
     "output_type": "stream",
     "text": [
      "<class 'pandas.core.frame.DataFrame'>\n",
      "Int64Index: 1460 entries, 1 to 1460\n",
      "Data columns (total 18 columns):\n",
      " #   Column        Non-Null Count  Dtype  \n",
      "---  ------        --------------  -----  \n",
      " 0   LandContour   1460 non-null   float64\n",
      " 1   Utilities     1460 non-null   float64\n",
      " 2   BldgType      1460 non-null   float64\n",
      " 3   HouseStyle    1460 non-null   float64\n",
      " 4   ExterQual     1460 non-null   float64\n",
      " 5   ExterCond     1460 non-null   float64\n",
      " 6   HeatingQC     1460 non-null   float64\n",
      " 7   CentralAir    1460 non-null   float64\n",
      " 8   KitchenQual   1460 non-null   float64\n",
      " 9   Functional    1460 non-null   float64\n",
      " 10  BsmtQual      1460 non-null   float64\n",
      " 11  BsmtCond      1460 non-null   float64\n",
      " 12  BsmtExposure  1460 non-null   float64\n",
      " 13  BsmtFinType1  1460 non-null   float64\n",
      " 14  BsmtFinType2  1460 non-null   float64\n",
      " 15  GarageFinish  1460 non-null   float64\n",
      " 16  GarageQual    1460 non-null   float64\n",
      " 17  GarageCond    1460 non-null   float64\n",
      "dtypes: float64(18)\n",
      "memory usage: 216.7 KB\n"
     ]
    }
   ],
   "source": [
    "# Check encoded data\n",
    "categorical_data[ordinar_columns].info()"
   ]
  },
  {
   "cell_type": "markdown",
   "id": "17374267",
   "metadata": {},
   "source": [
    "#### ONE-HOT ENCODING"
   ]
  },
  {
   "cell_type": "code",
   "execution_count": 47,
   "id": "8b96e852",
   "metadata": {
    "scrolled": true
   },
   "outputs": [],
   "source": [
    "# One-hot encoding model with parameters\n",
    "onehot_encoder = OneHotEncoder(handle_unknown=\"ignore\", sparse=False)\n",
    "\n",
    "# Encode data\n",
    "OH_data = onehot_encoder.fit_transform(categorical_data[onehot_columns])\n",
    "\n",
    "# Prepare for concatenation\n",
    "OH_data = pd.DataFrame(OH_data).copy()\n",
    "\n",
    "# Make column names string\n",
    "OH_data.columns = OH_data.columns.astype(str)"
   ]
  },
  {
   "cell_type": "code",
   "execution_count": 48,
   "id": "938bab90",
   "metadata": {
    "scrolled": true
   },
   "outputs": [
    {
     "name": "stdout",
     "output_type": "stream",
     "text": [
      "<class 'pandas.core.frame.DataFrame'>\n",
      "RangeIndex: 1460 entries, 0 to 1459\n",
      "Data columns (total 82 columns):\n",
      " #   Column  Non-Null Count  Dtype  \n",
      "---  ------  --------------  -----  \n",
      " 0   0       1460 non-null   float64\n",
      " 1   1       1460 non-null   float64\n",
      " 2   2       1460 non-null   float64\n",
      " 3   3       1460 non-null   float64\n",
      " 4   4       1460 non-null   float64\n",
      " 5   5       1460 non-null   float64\n",
      " 6   6       1460 non-null   float64\n",
      " 7   7       1460 non-null   float64\n",
      " 8   8       1460 non-null   float64\n",
      " 9   9       1460 non-null   float64\n",
      " 10  10      1460 non-null   float64\n",
      " 11  11      1460 non-null   float64\n",
      " 12  12      1460 non-null   float64\n",
      " 13  13      1460 non-null   float64\n",
      " 14  14      1460 non-null   float64\n",
      " 15  15      1460 non-null   float64\n",
      " 16  16      1460 non-null   float64\n",
      " 17  17      1460 non-null   float64\n",
      " 18  18      1460 non-null   float64\n",
      " 19  19      1460 non-null   float64\n",
      " 20  20      1460 non-null   float64\n",
      " 21  21      1460 non-null   float64\n",
      " 22  22      1460 non-null   float64\n",
      " 23  23      1460 non-null   float64\n",
      " 24  24      1460 non-null   float64\n",
      " 25  25      1460 non-null   float64\n",
      " 26  26      1460 non-null   float64\n",
      " 27  27      1460 non-null   float64\n",
      " 28  28      1460 non-null   float64\n",
      " 29  29      1460 non-null   float64\n",
      " 30  30      1460 non-null   float64\n",
      " 31  31      1460 non-null   float64\n",
      " 32  32      1460 non-null   float64\n",
      " 33  33      1460 non-null   float64\n",
      " 34  34      1460 non-null   float64\n",
      " 35  35      1460 non-null   float64\n",
      " 36  36      1460 non-null   float64\n",
      " 37  37      1460 non-null   float64\n",
      " 38  38      1460 non-null   float64\n",
      " 39  39      1460 non-null   float64\n",
      " 40  40      1460 non-null   float64\n",
      " 41  41      1460 non-null   float64\n",
      " 42  42      1460 non-null   float64\n",
      " 43  43      1460 non-null   float64\n",
      " 44  44      1460 non-null   float64\n",
      " 45  45      1460 non-null   float64\n",
      " 46  46      1460 non-null   float64\n",
      " 47  47      1460 non-null   float64\n",
      " 48  48      1460 non-null   float64\n",
      " 49  49      1460 non-null   float64\n",
      " 50  50      1460 non-null   float64\n",
      " 51  51      1460 non-null   float64\n",
      " 52  52      1460 non-null   float64\n",
      " 53  53      1460 non-null   float64\n",
      " 54  54      1460 non-null   float64\n",
      " 55  55      1460 non-null   float64\n",
      " 56  56      1460 non-null   float64\n",
      " 57  57      1460 non-null   float64\n",
      " 58  58      1460 non-null   float64\n",
      " 59  59      1460 non-null   float64\n",
      " 60  60      1460 non-null   float64\n",
      " 61  61      1460 non-null   float64\n",
      " 62  62      1460 non-null   float64\n",
      " 63  63      1460 non-null   float64\n",
      " 64  64      1460 non-null   float64\n",
      " 65  65      1460 non-null   float64\n",
      " 66  66      1460 non-null   float64\n",
      " 67  67      1460 non-null   float64\n",
      " 68  68      1460 non-null   float64\n",
      " 69  69      1460 non-null   float64\n",
      " 70  70      1460 non-null   float64\n",
      " 71  71      1460 non-null   float64\n",
      " 72  72      1460 non-null   float64\n",
      " 73  73      1460 non-null   float64\n",
      " 74  74      1460 non-null   float64\n",
      " 75  75      1460 non-null   float64\n",
      " 76  76      1460 non-null   float64\n",
      " 77  77      1460 non-null   float64\n",
      " 78  78      1460 non-null   float64\n",
      " 79  79      1460 non-null   float64\n",
      " 80  80      1460 non-null   float64\n",
      " 81  81      1460 non-null   float64\n",
      "dtypes: float64(82)\n",
      "memory usage: 935.4 KB\n"
     ]
    }
   ],
   "source": [
    "# Check encoded data\n",
    "OH_data.info()"
   ]
  },
  {
   "cell_type": "code",
   "execution_count": 49,
   "id": "d9c5b7d2",
   "metadata": {
    "scrolled": true
   },
   "outputs": [],
   "source": [
    "# Prepare index for concatination\n",
    "OH_data.set_index(OH_data.index + 1, drop=False, inplace=True)\n",
    "\n",
    "# Concat data parts\n",
    "train_dataframe = pd.concat([numerical_data, categorical_data[ordinar_columns], OH_data], axis=1)"
   ]
  },
  {
   "cell_type": "code",
   "execution_count": 50,
   "id": "e700ee98",
   "metadata": {
    "scrolled": true
   },
   "outputs": [
    {
     "data": {
      "text/html": [
       "<div>\n",
       "<style scoped>\n",
       "    .dataframe tbody tr th:only-of-type {\n",
       "        vertical-align: middle;\n",
       "    }\n",
       "\n",
       "    .dataframe tbody tr th {\n",
       "        vertical-align: top;\n",
       "    }\n",
       "\n",
       "    .dataframe thead th {\n",
       "        text-align: right;\n",
       "    }\n",
       "</style>\n",
       "<table border=\"1\" class=\"dataframe\">\n",
       "  <thead>\n",
       "    <tr style=\"text-align: right;\">\n",
       "      <th></th>\n",
       "      <th>MSSubClass</th>\n",
       "      <th>LotArea</th>\n",
       "      <th>OverallQual</th>\n",
       "      <th>OverallCond</th>\n",
       "      <th>YearBuilt</th>\n",
       "      <th>YearRemodAdd</th>\n",
       "      <th>BsmtFinSF1</th>\n",
       "      <th>BsmtFinSF2</th>\n",
       "      <th>BsmtUnfSF</th>\n",
       "      <th>TotalBsmtSF</th>\n",
       "      <th>...</th>\n",
       "      <th>72</th>\n",
       "      <th>73</th>\n",
       "      <th>74</th>\n",
       "      <th>75</th>\n",
       "      <th>76</th>\n",
       "      <th>77</th>\n",
       "      <th>78</th>\n",
       "      <th>79</th>\n",
       "      <th>80</th>\n",
       "      <th>81</th>\n",
       "    </tr>\n",
       "  </thead>\n",
       "  <tbody>\n",
       "    <tr>\n",
       "      <th>1</th>\n",
       "      <td>60</td>\n",
       "      <td>8450</td>\n",
       "      <td>7</td>\n",
       "      <td>5</td>\n",
       "      <td>2003</td>\n",
       "      <td>2003</td>\n",
       "      <td>706</td>\n",
       "      <td>0</td>\n",
       "      <td>150</td>\n",
       "      <td>856</td>\n",
       "      <td>...</td>\n",
       "      <td>0.0</td>\n",
       "      <td>0.0</td>\n",
       "      <td>0.0</td>\n",
       "      <td>1.0</td>\n",
       "      <td>0.0</td>\n",
       "      <td>1.0</td>\n",
       "      <td>0.0</td>\n",
       "      <td>0.0</td>\n",
       "      <td>0.0</td>\n",
       "      <td>0.0</td>\n",
       "    </tr>\n",
       "    <tr>\n",
       "      <th>2</th>\n",
       "      <td>20</td>\n",
       "      <td>9600</td>\n",
       "      <td>6</td>\n",
       "      <td>8</td>\n",
       "      <td>1976</td>\n",
       "      <td>1976</td>\n",
       "      <td>978</td>\n",
       "      <td>0</td>\n",
       "      <td>284</td>\n",
       "      <td>1262</td>\n",
       "      <td>...</td>\n",
       "      <td>0.0</td>\n",
       "      <td>0.0</td>\n",
       "      <td>0.0</td>\n",
       "      <td>1.0</td>\n",
       "      <td>0.0</td>\n",
       "      <td>1.0</td>\n",
       "      <td>0.0</td>\n",
       "      <td>0.0</td>\n",
       "      <td>0.0</td>\n",
       "      <td>0.0</td>\n",
       "    </tr>\n",
       "    <tr>\n",
       "      <th>3</th>\n",
       "      <td>60</td>\n",
       "      <td>11250</td>\n",
       "      <td>7</td>\n",
       "      <td>5</td>\n",
       "      <td>2001</td>\n",
       "      <td>2002</td>\n",
       "      <td>486</td>\n",
       "      <td>0</td>\n",
       "      <td>434</td>\n",
       "      <td>920</td>\n",
       "      <td>...</td>\n",
       "      <td>0.0</td>\n",
       "      <td>0.0</td>\n",
       "      <td>0.0</td>\n",
       "      <td>1.0</td>\n",
       "      <td>0.0</td>\n",
       "      <td>1.0</td>\n",
       "      <td>0.0</td>\n",
       "      <td>0.0</td>\n",
       "      <td>0.0</td>\n",
       "      <td>0.0</td>\n",
       "    </tr>\n",
       "    <tr>\n",
       "      <th>4</th>\n",
       "      <td>70</td>\n",
       "      <td>9550</td>\n",
       "      <td>7</td>\n",
       "      <td>5</td>\n",
       "      <td>1915</td>\n",
       "      <td>1970</td>\n",
       "      <td>216</td>\n",
       "      <td>0</td>\n",
       "      <td>540</td>\n",
       "      <td>756</td>\n",
       "      <td>...</td>\n",
       "      <td>0.0</td>\n",
       "      <td>0.0</td>\n",
       "      <td>0.0</td>\n",
       "      <td>1.0</td>\n",
       "      <td>0.0</td>\n",
       "      <td>0.0</td>\n",
       "      <td>0.0</td>\n",
       "      <td>0.0</td>\n",
       "      <td>0.0</td>\n",
       "      <td>1.0</td>\n",
       "    </tr>\n",
       "    <tr>\n",
       "      <th>5</th>\n",
       "      <td>60</td>\n",
       "      <td>14260</td>\n",
       "      <td>8</td>\n",
       "      <td>5</td>\n",
       "      <td>2000</td>\n",
       "      <td>2000</td>\n",
       "      <td>655</td>\n",
       "      <td>0</td>\n",
       "      <td>490</td>\n",
       "      <td>1145</td>\n",
       "      <td>...</td>\n",
       "      <td>0.0</td>\n",
       "      <td>0.0</td>\n",
       "      <td>0.0</td>\n",
       "      <td>1.0</td>\n",
       "      <td>0.0</td>\n",
       "      <td>1.0</td>\n",
       "      <td>0.0</td>\n",
       "      <td>0.0</td>\n",
       "      <td>0.0</td>\n",
       "      <td>0.0</td>\n",
       "    </tr>\n",
       "    <tr>\n",
       "      <th>...</th>\n",
       "      <td>...</td>\n",
       "      <td>...</td>\n",
       "      <td>...</td>\n",
       "      <td>...</td>\n",
       "      <td>...</td>\n",
       "      <td>...</td>\n",
       "      <td>...</td>\n",
       "      <td>...</td>\n",
       "      <td>...</td>\n",
       "      <td>...</td>\n",
       "      <td>...</td>\n",
       "      <td>...</td>\n",
       "      <td>...</td>\n",
       "      <td>...</td>\n",
       "      <td>...</td>\n",
       "      <td>...</td>\n",
       "      <td>...</td>\n",
       "      <td>...</td>\n",
       "      <td>...</td>\n",
       "      <td>...</td>\n",
       "      <td>...</td>\n",
       "    </tr>\n",
       "    <tr>\n",
       "      <th>1451</th>\n",
       "      <td>90</td>\n",
       "      <td>9000</td>\n",
       "      <td>5</td>\n",
       "      <td>5</td>\n",
       "      <td>1974</td>\n",
       "      <td>1974</td>\n",
       "      <td>0</td>\n",
       "      <td>0</td>\n",
       "      <td>896</td>\n",
       "      <td>896</td>\n",
       "      <td>...</td>\n",
       "      <td>0.0</td>\n",
       "      <td>0.0</td>\n",
       "      <td>0.0</td>\n",
       "      <td>1.0</td>\n",
       "      <td>0.0</td>\n",
       "      <td>1.0</td>\n",
       "      <td>0.0</td>\n",
       "      <td>0.0</td>\n",
       "      <td>0.0</td>\n",
       "      <td>0.0</td>\n",
       "    </tr>\n",
       "    <tr>\n",
       "      <th>1452</th>\n",
       "      <td>20</td>\n",
       "      <td>9262</td>\n",
       "      <td>8</td>\n",
       "      <td>5</td>\n",
       "      <td>2008</td>\n",
       "      <td>2009</td>\n",
       "      <td>0</td>\n",
       "      <td>0</td>\n",
       "      <td>1573</td>\n",
       "      <td>1573</td>\n",
       "      <td>...</td>\n",
       "      <td>0.0</td>\n",
       "      <td>0.0</td>\n",
       "      <td>0.0</td>\n",
       "      <td>1.0</td>\n",
       "      <td>0.0</td>\n",
       "      <td>1.0</td>\n",
       "      <td>0.0</td>\n",
       "      <td>0.0</td>\n",
       "      <td>0.0</td>\n",
       "      <td>0.0</td>\n",
       "    </tr>\n",
       "    <tr>\n",
       "      <th>1453</th>\n",
       "      <td>180</td>\n",
       "      <td>3675</td>\n",
       "      <td>5</td>\n",
       "      <td>5</td>\n",
       "      <td>2005</td>\n",
       "      <td>2005</td>\n",
       "      <td>547</td>\n",
       "      <td>0</td>\n",
       "      <td>0</td>\n",
       "      <td>547</td>\n",
       "      <td>...</td>\n",
       "      <td>0.0</td>\n",
       "      <td>0.0</td>\n",
       "      <td>0.0</td>\n",
       "      <td>1.0</td>\n",
       "      <td>0.0</td>\n",
       "      <td>0.0</td>\n",
       "      <td>1.0</td>\n",
       "      <td>0.0</td>\n",
       "      <td>0.0</td>\n",
       "      <td>0.0</td>\n",
       "    </tr>\n",
       "    <tr>\n",
       "      <th>1454</th>\n",
       "      <td>20</td>\n",
       "      <td>17217</td>\n",
       "      <td>5</td>\n",
       "      <td>5</td>\n",
       "      <td>2006</td>\n",
       "      <td>2006</td>\n",
       "      <td>0</td>\n",
       "      <td>0</td>\n",
       "      <td>1140</td>\n",
       "      <td>1140</td>\n",
       "      <td>...</td>\n",
       "      <td>0.0</td>\n",
       "      <td>0.0</td>\n",
       "      <td>0.0</td>\n",
       "      <td>1.0</td>\n",
       "      <td>0.0</td>\n",
       "      <td>1.0</td>\n",
       "      <td>0.0</td>\n",
       "      <td>0.0</td>\n",
       "      <td>0.0</td>\n",
       "      <td>0.0</td>\n",
       "    </tr>\n",
       "    <tr>\n",
       "      <th>1455</th>\n",
       "      <td>20</td>\n",
       "      <td>7500</td>\n",
       "      <td>7</td>\n",
       "      <td>5</td>\n",
       "      <td>2004</td>\n",
       "      <td>2005</td>\n",
       "      <td>410</td>\n",
       "      <td>0</td>\n",
       "      <td>811</td>\n",
       "      <td>1221</td>\n",
       "      <td>...</td>\n",
       "      <td>0.0</td>\n",
       "      <td>0.0</td>\n",
       "      <td>0.0</td>\n",
       "      <td>1.0</td>\n",
       "      <td>0.0</td>\n",
       "      <td>1.0</td>\n",
       "      <td>0.0</td>\n",
       "      <td>0.0</td>\n",
       "      <td>0.0</td>\n",
       "      <td>0.0</td>\n",
       "    </tr>\n",
       "  </tbody>\n",
       "</table>\n",
       "<p>1455 rows × 135 columns</p>\n",
       "</div>"
      ],
      "text/plain": [
       "      MSSubClass  LotArea  OverallQual  OverallCond  YearBuilt  YearRemodAdd  \\\n",
       "1             60     8450            7            5       2003          2003   \n",
       "2             20     9600            6            8       1976          1976   \n",
       "3             60    11250            7            5       2001          2002   \n",
       "4             70     9550            7            5       1915          1970   \n",
       "5             60    14260            8            5       2000          2000   \n",
       "...          ...      ...          ...          ...        ...           ...   \n",
       "1451          90     9000            5            5       1974          1974   \n",
       "1452          20     9262            8            5       2008          2009   \n",
       "1453         180     3675            5            5       2005          2005   \n",
       "1454          20    17217            5            5       2006          2006   \n",
       "1455          20     7500            7            5       2004          2005   \n",
       "\n",
       "      BsmtFinSF1  BsmtFinSF2  BsmtUnfSF  TotalBsmtSF  ...   72   73   74   75  \\\n",
       "1            706           0        150          856  ...  0.0  0.0  0.0  1.0   \n",
       "2            978           0        284         1262  ...  0.0  0.0  0.0  1.0   \n",
       "3            486           0        434          920  ...  0.0  0.0  0.0  1.0   \n",
       "4            216           0        540          756  ...  0.0  0.0  0.0  1.0   \n",
       "5            655           0        490         1145  ...  0.0  0.0  0.0  1.0   \n",
       "...          ...         ...        ...          ...  ...  ...  ...  ...  ...   \n",
       "1451           0           0        896          896  ...  0.0  0.0  0.0  1.0   \n",
       "1452           0           0       1573         1573  ...  0.0  0.0  0.0  1.0   \n",
       "1453         547           0          0          547  ...  0.0  0.0  0.0  1.0   \n",
       "1454           0           0       1140         1140  ...  0.0  0.0  0.0  1.0   \n",
       "1455         410           0        811         1221  ...  0.0  0.0  0.0  1.0   \n",
       "\n",
       "       76   77   78   79   80   81  \n",
       "1     0.0  1.0  0.0  0.0  0.0  0.0  \n",
       "2     0.0  1.0  0.0  0.0  0.0  0.0  \n",
       "3     0.0  1.0  0.0  0.0  0.0  0.0  \n",
       "4     0.0  0.0  0.0  0.0  0.0  1.0  \n",
       "5     0.0  1.0  0.0  0.0  0.0  0.0  \n",
       "...   ...  ...  ...  ...  ...  ...  \n",
       "1451  0.0  1.0  0.0  0.0  0.0  0.0  \n",
       "1452  0.0  1.0  0.0  0.0  0.0  0.0  \n",
       "1453  0.0  0.0  1.0  0.0  0.0  0.0  \n",
       "1454  0.0  1.0  0.0  0.0  0.0  0.0  \n",
       "1455  0.0  1.0  0.0  0.0  0.0  0.0  \n",
       "\n",
       "[1455 rows x 135 columns]"
      ]
     },
     "execution_count": 50,
     "metadata": {},
     "output_type": "execute_result"
    }
   ],
   "source": [
    "# Check training data\n",
    "train_dataframe.head(-5)"
   ]
  },
  {
   "cell_type": "markdown",
   "id": "95f69698",
   "metadata": {},
   "source": [
    "#### WORK WITH MODEL"
   ]
  },
  {
   "cell_type": "code",
   "execution_count": 51,
   "id": "59a92902",
   "metadata": {},
   "outputs": [],
   "source": [
    "# The function for calculating score with settled depth\n",
    "def get_depth(depth: int):\n",
    "    model = DecisionTreeRegressor(\n",
    "                                    random_state=0, \n",
    "                                    max_depth=depth,\n",
    "                                    criterion=\"absolute_error\"\n",
    "                                 )\n",
    "\n",
    "    return abs(cross_val_score(model, train_dataframe, Y, cv=10, scoring=\"neg_mean_absolute_error\").mean())\n",
    "\n",
    "# The function for searching model with the best depth\n",
    "def get_best_depth():\n",
    "    best_depth = 3\n",
    "    best_score = get_depth(3)\n",
    "    \n",
    "    for depth in range(4, 10):\n",
    "        temporary_score = get_depth(depth)\n",
    "        \n",
    "        if best_score > temporary_score:\n",
    "            best_depth = depth\n",
    "            best_score = temporary_score\n",
    "    \n",
    "    return best_depth"
   ]
  },
  {
   "cell_type": "code",
   "execution_count": 52,
   "id": "93a262ec",
   "metadata": {},
   "outputs": [],
   "source": [
    "# The function for calculating score with settled min_samples_split\n",
    "def get_min_samples_split(min_samples_split: int, depth: int):\n",
    "    model = DecisionTreeRegressor(\n",
    "                                    random_state=0, \n",
    "                                    max_depth=depth,\n",
    "                                    criterion=\"absolute_error\",\n",
    "                                    min_samples_split=min_samples_split\n",
    "                                 )\n",
    "\n",
    "    return abs(cross_val_score(model, train_dataframe, Y, cv=10, scoring=\"neg_mean_absolute_error\").mean())\n",
    "\n",
    "# The function for searching model with the best min_sample_split\n",
    "def get_best_min_samples_split(depth: int):\n",
    "    best_min_samples_split = 4\n",
    "    best_score = get_min_samples_split(4, depth)\n",
    "    \n",
    "    for min_samples_split in range(5, 25):\n",
    "        temporary_score = get_min_samples_split(min_samples_split, depth)\n",
    "        \n",
    "        if best_score > temporary_score:\n",
    "            best_score = temporary_score\n",
    "            best_min_samples_split = min_samples_split\n",
    "    \n",
    "    return best_min_samples_split"
   ]
  },
  {
   "cell_type": "code",
   "execution_count": 53,
   "id": "81a3d396",
   "metadata": {},
   "outputs": [],
   "source": [
    "# The function for calculating score with settled min_samples_leaf\n",
    "def get_min_samples_leaf(min_samples_leaf: int, min_samples_split: int, depth: int):\n",
    "    model = DecisionTreeRegressor(\n",
    "                                    random_state=0, \n",
    "                                    max_depth=depth,\n",
    "                                    criterion=\"absolute_error\",\n",
    "                                    min_samples_leaf=min_samples_leaf,\n",
    "                                    min_samples_split=min_samples_split\n",
    "                                 )\n",
    "\n",
    "    return abs(cross_val_score(model, train_dataframe, Y, cv=10, scoring=\"neg_mean_absolute_error\").mean())\n",
    "\n",
    "# The function for searching model with the best min_sample_leaf\n",
    "def get_best_min_samples_leaf(min_samples_split: int, depth: int):\n",
    "    best_min_samples_leaf = 2\n",
    "    best_score = get_min_samples_leaf(2, min_samples_split, depth)\n",
    "    \n",
    "    for min_samples_leaf in range(3, 11):\n",
    "        temporary_score = get_min_samples_leaf(min_samples_leaf, min_samples_split, depth)\n",
    "        \n",
    "        if best_score > temporary_score:\n",
    "            best_score = temporary_score\n",
    "            best_min_samples_leaf = min_samples_leaf\n",
    "    \n",
    "    return best_min_samples_leaf"
   ]
  },
  {
   "cell_type": "code",
   "execution_count": 54,
   "id": "30df1106",
   "metadata": {},
   "outputs": [],
   "source": [
    "# To get the best parameters\n",
    "def get_best_parameters():\n",
    "    best_depth = get_best_depth()\n",
    "    best_min_sample_split = get_best_min_samples_split(best_depth)\n",
    "    best_min_samples_leaf = get_best_min_samples_leaf(best_min_sample_split, best_depth)\n",
    "    \n",
    "    return (best_depth, best_min_sample_split, best_min_samples_leaf)\n",
    "\n",
    "# Get the best parameters\n",
    "best_depth, best_min_sample_split, best_min_samples_leaf = get_best_parameters()"
   ]
  },
  {
   "cell_type": "code",
   "execution_count": 55,
   "id": "9c328103",
   "metadata": {},
   "outputs": [
    {
     "name": "stdout",
     "output_type": "stream",
     "text": [
      "best_depth = 7, best_min_sample_split = 16, best_min_samples_leaf = 10\n"
     ]
    }
   ],
   "source": [
    "# Check them\n",
    "print(\"best_depth = \", best_depth, \", best_min_sample_split = \", best_min_sample_split, \n",
    "      \", best_min_samples_leaf = \", best_min_samples_leaf, sep='')"
   ]
  },
  {
   "cell_type": "markdown",
   "id": "95aa38af",
   "metadata": {},
   "source": [
    "#### FITTING AND PREDICT"
   ]
  },
  {
   "cell_type": "code",
   "execution_count": 56,
   "id": "15858489",
   "metadata": {},
   "outputs": [],
   "source": [
    "# Create the model with the best params\n",
    "model = DecisionTreeRegressor(\n",
    "                                random_state=0,\n",
    "                                max_depth=best_depth,\n",
    "                                criterion=\"absolute_error\",\n",
    "                                min_samples_leaf=best_min_samples_leaf,\n",
    "                                min_samples_split=best_min_sample_split\n",
    "                             )\n",
    "\n",
    "# Make the final fitting\n",
    "model.fit(train_dataframe, Y);"
   ]
  },
  {
   "cell_type": "markdown",
   "id": "9cd0eca3",
   "metadata": {},
   "source": [
    "#### PREPARE TEST DATA"
   ]
  },
  {
   "cell_type": "code",
   "execution_count": 57,
   "id": "a145ccbd",
   "metadata": {
    "scrolled": true
   },
   "outputs": [],
   "source": [
    "# Check columns with NaN values\n",
    "test_nan_columns = [column for column in test_dataframe.columns if test_dataframe[column].isnull().any()]"
   ]
  },
  {
   "cell_type": "code",
   "execution_count": 58,
   "id": "b1b891cf",
   "metadata": {
    "scrolled": true
   },
   "outputs": [
    {
     "name": "stdout",
     "output_type": "stream",
     "text": [
      "<class 'pandas.core.frame.DataFrame'>\n",
      "Int64Index: 1459 entries, 1461 to 2919\n",
      "Data columns (total 27 columns):\n",
      " #   Column        Non-Null Count  Dtype  \n",
      "---  ------        --------------  -----  \n",
      " 0   MSZoning      1455 non-null   object \n",
      " 1   LotFrontage   1232 non-null   float64\n",
      " 2   Utilities     1457 non-null   object \n",
      " 3   Exterior1st   1458 non-null   object \n",
      " 4   Exterior2nd   1458 non-null   object \n",
      " 5   MasVnrType    1443 non-null   object \n",
      " 6   MasVnrArea    1444 non-null   float64\n",
      " 7   BsmtQual      1415 non-null   object \n",
      " 8   BsmtCond      1414 non-null   object \n",
      " 9   BsmtExposure  1415 non-null   object \n",
      " 10  BsmtFinType1  1417 non-null   object \n",
      " 11  BsmtFinSF1    1458 non-null   float64\n",
      " 12  BsmtFinType2  1417 non-null   object \n",
      " 13  BsmtFinSF2    1458 non-null   float64\n",
      " 14  BsmtUnfSF     1458 non-null   float64\n",
      " 15  TotalBsmtSF   1458 non-null   float64\n",
      " 16  BsmtFullBath  1457 non-null   float64\n",
      " 17  BsmtHalfBath  1457 non-null   float64\n",
      " 18  KitchenQual   1458 non-null   object \n",
      " 19  Functional    1457 non-null   object \n",
      " 20  GarageType    1383 non-null   object \n",
      " 21  GarageFinish  1381 non-null   object \n",
      " 22  GarageCars    1458 non-null   float64\n",
      " 23  GarageArea    1458 non-null   float64\n",
      " 24  GarageQual    1381 non-null   object \n",
      " 25  GarageCond    1381 non-null   object \n",
      " 26  SaleType      1458 non-null   object \n",
      "dtypes: float64(10), object(17)\n",
      "memory usage: 319.2+ KB\n"
     ]
    }
   ],
   "source": [
    "# Check only columns with NaN values\n",
    "test_dataframe[test_nan_columns].info()"
   ]
  },
  {
   "cell_type": "code",
   "execution_count": 59,
   "id": "e486e11c",
   "metadata": {
    "scrolled": true
   },
   "outputs": [],
   "source": [
    "# Take numerical and categorical columns with NaN values\n",
    "test_categorical_nan_columns = pd.DataFrame(test_dataframe[test_nan_columns].select_dtypes(include=[\"object\"]).copy())\n",
    "test_numerical_nan_columns = pd.DataFrame(test_dataframe[test_nan_columns].select_dtypes(include=[\"float64\", \"int64\"]).copy())\n",
    "\n",
    "# Delete columns with NaN value\n",
    "test_dataframe.drop(columns=test_nan_columns, axis=1, inplace=True)"
   ]
  },
  {
   "cell_type": "markdown",
   "id": "bf85678c",
   "metadata": {},
   "source": [
    "#### WORK WITH NUMERICAL TEST DATA"
   ]
  },
  {
   "cell_type": "code",
   "execution_count": 60,
   "id": "c3c7f665",
   "metadata": {
    "scrolled": false
   },
   "outputs": [
    {
     "name": "stdout",
     "output_type": "stream",
     "text": [
      "<class 'pandas.core.frame.DataFrame'>\n",
      "Int64Index: 1459 entries, 1461 to 2919\n",
      "Data columns (total 10 columns):\n",
      " #   Column        Non-Null Count  Dtype  \n",
      "---  ------        --------------  -----  \n",
      " 0   LotFrontage   1232 non-null   float64\n",
      " 1   MasVnrArea    1444 non-null   float64\n",
      " 2   BsmtFinSF1    1458 non-null   float64\n",
      " 3   BsmtFinSF2    1458 non-null   float64\n",
      " 4   BsmtUnfSF     1458 non-null   float64\n",
      " 5   TotalBsmtSF   1458 non-null   float64\n",
      " 6   BsmtFullBath  1457 non-null   float64\n",
      " 7   BsmtHalfBath  1457 non-null   float64\n",
      " 8   GarageCars    1458 non-null   float64\n",
      " 9   GarageArea    1458 non-null   float64\n",
      "dtypes: float64(10)\n",
      "memory usage: 125.4 KB\n"
     ]
    }
   ],
   "source": [
    "# Check numerical data \n",
    "test_numerical_nan_columns.info()"
   ]
  },
  {
   "cell_type": "code",
   "execution_count": 61,
   "id": "39f2a074",
   "metadata": {
    "scrolled": true
   },
   "outputs": [
    {
     "data": {
      "image/png": "[encoded data removed]",
      "text/plain": [
       "<Figure size 800x400 with 1 Axes>"
      ]
     },
     "metadata": {},
     "output_type": "display_data"
    }
   ],
   "source": [
    "# Check extreme values on boxplot\n",
    "sns.boxplot(x=test_numerical_nan_columns[\"LotFrontage\"]);"
   ]
  },
  {
   "cell_type": "code",
   "execution_count": 62,
   "id": "1282633c",
   "metadata": {
    "scrolled": true
   },
   "outputs": [
    {
     "data": {
      "text/html": [
       "<div>\n",
       "<style scoped>\n",
       "    .dataframe tbody tr th:only-of-type {\n",
       "        vertical-align: middle;\n",
       "    }\n",
       "\n",
       "    .dataframe tbody tr th {\n",
       "        vertical-align: top;\n",
       "    }\n",
       "\n",
       "    .dataframe thead th {\n",
       "        text-align: right;\n",
       "    }\n",
       "</style>\n",
       "<table border=\"1\" class=\"dataframe\">\n",
       "  <thead>\n",
       "    <tr style=\"text-align: right;\">\n",
       "      <th></th>\n",
       "      <th>LotFrontage</th>\n",
       "      <th>MasVnrArea</th>\n",
       "      <th>BsmtFinSF1</th>\n",
       "      <th>BsmtFinSF2</th>\n",
       "      <th>BsmtUnfSF</th>\n",
       "      <th>TotalBsmtSF</th>\n",
       "      <th>BsmtFullBath</th>\n",
       "      <th>BsmtHalfBath</th>\n",
       "      <th>GarageCars</th>\n",
       "      <th>GarageArea</th>\n",
       "    </tr>\n",
       "  </thead>\n",
       "  <tbody>\n",
       "    <tr>\n",
       "      <th>count</th>\n",
       "      <td>1232.000000</td>\n",
       "      <td>1444.000000</td>\n",
       "      <td>1458.000000</td>\n",
       "      <td>1458.000000</td>\n",
       "      <td>1458.000000</td>\n",
       "      <td>1458.000000</td>\n",
       "      <td>1457.000000</td>\n",
       "      <td>1457.000000</td>\n",
       "      <td>1458.000000</td>\n",
       "      <td>1458.000000</td>\n",
       "    </tr>\n",
       "    <tr>\n",
       "      <th>mean</th>\n",
       "      <td>68.580357</td>\n",
       "      <td>100.709141</td>\n",
       "      <td>439.203704</td>\n",
       "      <td>52.619342</td>\n",
       "      <td>554.294925</td>\n",
       "      <td>1046.117970</td>\n",
       "      <td>0.434454</td>\n",
       "      <td>0.065202</td>\n",
       "      <td>1.766118</td>\n",
       "      <td>472.768861</td>\n",
       "    </tr>\n",
       "    <tr>\n",
       "      <th>std</th>\n",
       "      <td>22.376841</td>\n",
       "      <td>177.625900</td>\n",
       "      <td>455.268042</td>\n",
       "      <td>176.753926</td>\n",
       "      <td>437.260486</td>\n",
       "      <td>442.898624</td>\n",
       "      <td>0.530648</td>\n",
       "      <td>0.252468</td>\n",
       "      <td>0.775945</td>\n",
       "      <td>217.048611</td>\n",
       "    </tr>\n",
       "    <tr>\n",
       "      <th>min</th>\n",
       "      <td>21.000000</td>\n",
       "      <td>0.000000</td>\n",
       "      <td>0.000000</td>\n",
       "      <td>0.000000</td>\n",
       "      <td>0.000000</td>\n",
       "      <td>0.000000</td>\n",
       "      <td>0.000000</td>\n",
       "      <td>0.000000</td>\n",
       "      <td>0.000000</td>\n",
       "      <td>0.000000</td>\n",
       "    </tr>\n",
       "    <tr>\n",
       "      <th>25%</th>\n",
       "      <td>58.000000</td>\n",
       "      <td>0.000000</td>\n",
       "      <td>0.000000</td>\n",
       "      <td>0.000000</td>\n",
       "      <td>219.250000</td>\n",
       "      <td>784.000000</td>\n",
       "      <td>0.000000</td>\n",
       "      <td>0.000000</td>\n",
       "      <td>1.000000</td>\n",
       "      <td>318.000000</td>\n",
       "    </tr>\n",
       "    <tr>\n",
       "      <th>50%</th>\n",
       "      <td>67.000000</td>\n",
       "      <td>0.000000</td>\n",
       "      <td>350.500000</td>\n",
       "      <td>0.000000</td>\n",
       "      <td>460.000000</td>\n",
       "      <td>988.000000</td>\n",
       "      <td>0.000000</td>\n",
       "      <td>0.000000</td>\n",
       "      <td>2.000000</td>\n",
       "      <td>480.000000</td>\n",
       "    </tr>\n",
       "    <tr>\n",
       "      <th>75%</th>\n",
       "      <td>80.000000</td>\n",
       "      <td>164.000000</td>\n",
       "      <td>753.500000</td>\n",
       "      <td>0.000000</td>\n",
       "      <td>797.750000</td>\n",
       "      <td>1305.000000</td>\n",
       "      <td>1.000000</td>\n",
       "      <td>0.000000</td>\n",
       "      <td>2.000000</td>\n",
       "      <td>576.000000</td>\n",
       "    </tr>\n",
       "    <tr>\n",
       "      <th>max</th>\n",
       "      <td>200.000000</td>\n",
       "      <td>1290.000000</td>\n",
       "      <td>4010.000000</td>\n",
       "      <td>1526.000000</td>\n",
       "      <td>2140.000000</td>\n",
       "      <td>5095.000000</td>\n",
       "      <td>3.000000</td>\n",
       "      <td>2.000000</td>\n",
       "      <td>5.000000</td>\n",
       "      <td>1488.000000</td>\n",
       "    </tr>\n",
       "  </tbody>\n",
       "</table>\n",
       "</div>"
      ],
      "text/plain": [
       "       LotFrontage   MasVnrArea   BsmtFinSF1   BsmtFinSF2    BsmtUnfSF  \\\n",
       "count  1232.000000  1444.000000  1458.000000  1458.000000  1458.000000   \n",
       "mean     68.580357   100.709141   439.203704    52.619342   554.294925   \n",
       "std      22.376841   177.625900   455.268042   176.753926   437.260486   \n",
       "min      21.000000     0.000000     0.000000     0.000000     0.000000   \n",
       "25%      58.000000     0.000000     0.000000     0.000000   219.250000   \n",
       "50%      67.000000     0.000000   350.500000     0.000000   460.000000   \n",
       "75%      80.000000   164.000000   753.500000     0.000000   797.750000   \n",
       "max     200.000000  1290.000000  4010.000000  1526.000000  2140.000000   \n",
       "\n",
       "       TotalBsmtSF  BsmtFullBath  BsmtHalfBath   GarageCars   GarageArea  \n",
       "count  1458.000000   1457.000000   1457.000000  1458.000000  1458.000000  \n",
       "mean   1046.117970      0.434454      0.065202     1.766118   472.768861  \n",
       "std     442.898624      0.530648      0.252468     0.775945   217.048611  \n",
       "min       0.000000      0.000000      0.000000     0.000000     0.000000  \n",
       "25%     784.000000      0.000000      0.000000     1.000000   318.000000  \n",
       "50%     988.000000      0.000000      0.000000     2.000000   480.000000  \n",
       "75%    1305.000000      1.000000      0.000000     2.000000   576.000000  \n",
       "max    5095.000000      3.000000      2.000000     5.000000  1488.000000  "
      ]
     },
     "execution_count": 62,
     "metadata": {},
     "output_type": "execute_result"
    }
   ],
   "source": [
    "# Check mean and variance of data\n",
    "test_numerical_nan_columns.describe()"
   ]
  },
  {
   "cell_type": "code",
   "execution_count": 63,
   "id": "19847bb9",
   "metadata": {},
   "outputs": [],
   "source": [
    "# We suppose that training data have the same distribution\n",
    "\n",
    "# Fill all NaN entities\n",
    "test_numerical_nan_columns.LotFrontage.fillna(test_numerical_nan_columns.LotFrontage.dropna().median(), inplace=True)"
   ]
  },
  {
   "cell_type": "code",
   "execution_count": 64,
   "id": "525603ca",
   "metadata": {},
   "outputs": [
    {
     "name": "stdout",
     "output_type": "stream",
     "text": [
      "<class 'pandas.core.frame.DataFrame'>\n",
      "Int64Index: 1459 entries, 1461 to 2919\n",
      "Data columns (total 10 columns):\n",
      " #   Column        Non-Null Count  Dtype  \n",
      "---  ------        --------------  -----  \n",
      " 0   LotFrontage   1459 non-null   float64\n",
      " 1   MasVnrArea    1444 non-null   float64\n",
      " 2   BsmtFinSF1    1458 non-null   float64\n",
      " 3   BsmtFinSF2    1458 non-null   float64\n",
      " 4   BsmtUnfSF     1458 non-null   float64\n",
      " 5   TotalBsmtSF   1458 non-null   float64\n",
      " 6   BsmtFullBath  1457 non-null   float64\n",
      " 7   BsmtHalfBath  1457 non-null   float64\n",
      " 8   GarageCars    1458 non-null   float64\n",
      " 9   GarageArea    1458 non-null   float64\n",
      "dtypes: float64(10)\n",
      "memory usage: 125.4 KB\n"
     ]
    }
   ],
   "source": [
    "# Check updated column\n",
    "test_numerical_nan_columns.info()"
   ]
  },
  {
   "cell_type": "code",
   "execution_count": 65,
   "id": "69ef2d8f",
   "metadata": {
    "scrolled": true
   },
   "outputs": [
    {
     "data": {
      "image/png": "[encoded data removed]",
      "text/plain": [
       "<Figure size 800x400 with 1 Axes>"
      ]
     },
     "metadata": {},
     "output_type": "display_data"
    }
   ],
   "source": [
    "# Check another distributions of numerical column\n",
    "sns.histplot(test_numerical_nan_columns[\"MasVnrArea\"]);"
   ]
  },
  {
   "cell_type": "code",
   "execution_count": 66,
   "id": "ccebca2e",
   "metadata": {},
   "outputs": [],
   "source": [
    "# We suppose that training data have the same distribution\n",
    "\n",
    "# Create column of flag of missing value\n",
    "test_numerical_nan_columns[\"MasVnrAreaFlag\"] = test_numerical_nan_columns.MasVnrArea.isnull().astype(int)\n",
    "\n",
    "# Fill NaN entities\n",
    "test_numerical_nan_columns.MasVnrArea.fillna(0, inplace=True)\n",
    "[test_numerical_nan_columns[column].fillna(test_numerical_nan_columns[column].median(), inplace=True) \n",
    "             for column in test_numerical_nan_columns.columns];"
   ]
  },
  {
   "cell_type": "code",
   "execution_count": 67,
   "id": "832405b7",
   "metadata": {},
   "outputs": [
    {
     "name": "stdout",
     "output_type": "stream",
     "text": [
      "<class 'pandas.core.frame.DataFrame'>\n",
      "Int64Index: 1459 entries, 1461 to 2919\n",
      "Data columns (total 3 columns):\n",
      " #   Column          Non-Null Count  Dtype  \n",
      "---  ------          --------------  -----  \n",
      " 0   LotFrontage     1459 non-null   float64\n",
      " 1   MasVnrArea      1459 non-null   float64\n",
      " 2   MasVnrAreaFlag  1459 non-null   int32  \n",
      "dtypes: float64(2), int32(1)\n",
      "memory usage: 39.9 KB\n"
     ]
    }
   ],
   "source": [
    "# Check that we plug NaN numerical values\n",
    "test_numerical_nan_columns[[\"LotFrontage\", \"MasVnrArea\", \"MasVnrAreaFlag\"]].info()"
   ]
  },
  {
   "cell_type": "markdown",
   "id": "5aa770d6",
   "metadata": {},
   "source": [
    "#### WORK WITH CATEGORICAL TEST DATA"
   ]
  },
  {
   "cell_type": "code",
   "execution_count": 68,
   "id": "471507c1",
   "metadata": {
    "scrolled": true
   },
   "outputs": [
    {
     "name": "stdout",
     "output_type": "stream",
     "text": [
      "<class 'pandas.core.frame.DataFrame'>\n",
      "Int64Index: 1459 entries, 1461 to 2919\n",
      "Data columns (total 17 columns):\n",
      " #   Column        Non-Null Count  Dtype \n",
      "---  ------        --------------  ----- \n",
      " 0   MSZoning      1455 non-null   object\n",
      " 1   Utilities     1457 non-null   object\n",
      " 2   Exterior1st   1458 non-null   object\n",
      " 3   Exterior2nd   1458 non-null   object\n",
      " 4   MasVnrType    1443 non-null   object\n",
      " 5   BsmtQual      1415 non-null   object\n",
      " 6   BsmtCond      1414 non-null   object\n",
      " 7   BsmtExposure  1415 non-null   object\n",
      " 8   BsmtFinType1  1417 non-null   object\n",
      " 9   BsmtFinType2  1417 non-null   object\n",
      " 10  KitchenQual   1458 non-null   object\n",
      " 11  Functional    1457 non-null   object\n",
      " 12  GarageType    1383 non-null   object\n",
      " 13  GarageFinish  1381 non-null   object\n",
      " 14  GarageQual    1381 non-null   object\n",
      " 15  GarageCond    1381 non-null   object\n",
      " 16  SaleType      1458 non-null   object\n",
      "dtypes: object(17)\n",
      "memory usage: 205.2+ KB\n"
     ]
    }
   ],
   "source": [
    "# Check updated columns\n",
    "test_categorical_nan_columns.info()"
   ]
  },
  {
   "cell_type": "code",
   "execution_count": 69,
   "id": "4bdba343",
   "metadata": {
    "scrolled": true
   },
   "outputs": [],
   "source": [
    "# Filling categorical NaN columns\n",
    "[test_categorical_nan_columns[column].fillna(test_categorical_nan_columns[column].value_counts().index[0], \n",
    "                                                   inplace=True) for column in test_categorical_nan_columns];"
   ]
  },
  {
   "cell_type": "code",
   "execution_count": 70,
   "id": "9c8ac1ec",
   "metadata": {
    "scrolled": true
   },
   "outputs": [
    {
     "name": "stdout",
     "output_type": "stream",
     "text": [
      "<class 'pandas.core.frame.DataFrame'>\n",
      "Int64Index: 1459 entries, 1461 to 2919\n",
      "Data columns (total 17 columns):\n",
      " #   Column        Non-Null Count  Dtype \n",
      "---  ------        --------------  ----- \n",
      " 0   MSZoning      1459 non-null   object\n",
      " 1   Utilities     1459 non-null   object\n",
      " 2   Exterior1st   1459 non-null   object\n",
      " 3   Exterior2nd   1459 non-null   object\n",
      " 4   MasVnrType    1459 non-null   object\n",
      " 5   BsmtQual      1459 non-null   object\n",
      " 6   BsmtCond      1459 non-null   object\n",
      " 7   BsmtExposure  1459 non-null   object\n",
      " 8   BsmtFinType1  1459 non-null   object\n",
      " 9   BsmtFinType2  1459 non-null   object\n",
      " 10  KitchenQual   1459 non-null   object\n",
      " 11  Functional    1459 non-null   object\n",
      " 12  GarageType    1459 non-null   object\n",
      " 13  GarageFinish  1459 non-null   object\n",
      " 14  GarageQual    1459 non-null   object\n",
      " 15  GarageCond    1459 non-null   object\n",
      " 16  SaleType      1459 non-null   object\n",
      "dtypes: object(17)\n",
      "memory usage: 205.2+ KB\n"
     ]
    }
   ],
   "source": [
    "# Check that we put the data\n",
    "test_categorical_nan_columns.info()"
   ]
  },
  {
   "cell_type": "code",
   "execution_count": 71,
   "id": "69395c02",
   "metadata": {
    "scrolled": true
   },
   "outputs": [],
   "source": [
    "# Full prepare training data\n",
    "test_dataframe = pd.concat([test_dataframe, test_categorical_nan_columns, test_numerical_nan_columns], axis=1).copy()"
   ]
  },
  {
   "cell_type": "code",
   "execution_count": 72,
   "id": "b132d209",
   "metadata": {
    "scrolled": true
   },
   "outputs": [
    {
     "name": "stdout",
     "output_type": "stream",
     "text": [
      "<class 'pandas.core.frame.DataFrame'>\n",
      "Int64Index: 1459 entries, 1461 to 2919\n",
      "Data columns (total 71 columns):\n",
      " #   Column          Non-Null Count  Dtype  \n",
      "---  ------          --------------  -----  \n",
      " 0   MSSubClass      1459 non-null   int64  \n",
      " 1   LotArea         1459 non-null   int64  \n",
      " 2   Street          1459 non-null   object \n",
      " 3   LandContour     1459 non-null   object \n",
      " 4   LotConfig       1459 non-null   object \n",
      " 5   Neighborhood    1459 non-null   object \n",
      " 6   Condition1      1459 non-null   object \n",
      " 7   Condition2      1459 non-null   object \n",
      " 8   BldgType        1459 non-null   object \n",
      " 9   HouseStyle      1459 non-null   object \n",
      " 10  OverallQual     1459 non-null   int64  \n",
      " 11  OverallCond     1459 non-null   int64  \n",
      " 12  YearBuilt       1459 non-null   int64  \n",
      " 13  YearRemodAdd    1459 non-null   int64  \n",
      " 14  RoofMatl        1459 non-null   object \n",
      " 15  ExterQual       1459 non-null   object \n",
      " 16  ExterCond       1459 non-null   object \n",
      " 17  Foundation      1459 non-null   object \n",
      " 18  Heating         1459 non-null   object \n",
      " 19  HeatingQC       1459 non-null   object \n",
      " 20  CentralAir      1459 non-null   object \n",
      " 21  Electrical      1459 non-null   object \n",
      " 22  1stFlrSF        1459 non-null   int64  \n",
      " 23  2ndFlrSF        1459 non-null   int64  \n",
      " 24  LowQualFinSF    1459 non-null   int64  \n",
      " 25  GrLivArea       1459 non-null   int64  \n",
      " 26  FullBath        1459 non-null   int64  \n",
      " 27  HalfBath        1459 non-null   int64  \n",
      " 28  BedroomAbvGr    1459 non-null   int64  \n",
      " 29  KitchenAbvGr    1459 non-null   int64  \n",
      " 30  TotRmsAbvGrd    1459 non-null   int64  \n",
      " 31  Fireplaces      1459 non-null   int64  \n",
      " 32  PavedDrive      1459 non-null   object \n",
      " 33  WoodDeckSF      1459 non-null   int64  \n",
      " 34  OpenPorchSF     1459 non-null   int64  \n",
      " 35  EnclosedPorch   1459 non-null   int64  \n",
      " 36  3SsnPorch       1459 non-null   int64  \n",
      " 37  ScreenPorch     1459 non-null   int64  \n",
      " 38  PoolArea        1459 non-null   int64  \n",
      " 39  MiscVal         1459 non-null   int64  \n",
      " 40  MoSold          1459 non-null   int64  \n",
      " 41  YrSold          1459 non-null   int64  \n",
      " 42  SaleCondition   1459 non-null   object \n",
      " 43  MSZoning        1459 non-null   object \n",
      " 44  Utilities       1459 non-null   object \n",
      " 45  Exterior1st     1459 non-null   object \n",
      " 46  Exterior2nd     1459 non-null   object \n",
      " 47  MasVnrType      1459 non-null   object \n",
      " 48  BsmtQual        1459 non-null   object \n",
      " 49  BsmtCond        1459 non-null   object \n",
      " 50  BsmtExposure    1459 non-null   object \n",
      " 51  BsmtFinType1    1459 non-null   object \n",
      " 52  BsmtFinType2    1459 non-null   object \n",
      " 53  KitchenQual     1459 non-null   object \n",
      " 54  Functional      1459 non-null   object \n",
      " 55  GarageType      1459 non-null   object \n",
      " 56  GarageFinish    1459 non-null   object \n",
      " 57  GarageQual      1459 non-null   object \n",
      " 58  GarageCond      1459 non-null   object \n",
      " 59  SaleType        1459 non-null   object \n",
      " 60  LotFrontage     1459 non-null   float64\n",
      " 61  MasVnrArea      1459 non-null   float64\n",
      " 62  BsmtFinSF1      1459 non-null   float64\n",
      " 63  BsmtFinSF2      1459 non-null   float64\n",
      " 64  BsmtUnfSF       1459 non-null   float64\n",
      " 65  TotalBsmtSF     1459 non-null   float64\n",
      " 66  BsmtFullBath    1459 non-null   float64\n",
      " 67  BsmtHalfBath    1459 non-null   float64\n",
      " 68  GarageCars      1459 non-null   float64\n",
      " 69  GarageArea      1459 non-null   float64\n",
      " 70  MasVnrAreaFlag  1459 non-null   int32  \n",
      "dtypes: float64(10), int32(1), int64(25), object(35)\n",
      "memory usage: 815.0+ KB\n"
     ]
    }
   ],
   "source": [
    "# Check train data\n",
    "test_dataframe.info()"
   ]
  },
  {
   "cell_type": "code",
   "execution_count": 73,
   "id": "96f70f0e",
   "metadata": {
    "scrolled": true
   },
   "outputs": [],
   "source": [
    "# Take numerical data\n",
    "test_numerical_data = test_dataframe.select_dtypes(include=[\"float64\", \"int64\"]).copy()"
   ]
  },
  {
   "cell_type": "code",
   "execution_count": 74,
   "id": "d8a1f63b",
   "metadata": {
    "scrolled": true
   },
   "outputs": [
    {
     "name": "stdout",
     "output_type": "stream",
     "text": [
      "<class 'pandas.core.frame.DataFrame'>\n",
      "Int64Index: 1459 entries, 1461 to 2919\n",
      "Data columns (total 35 columns):\n",
      " #   Column         Non-Null Count  Dtype  \n",
      "---  ------         --------------  -----  \n",
      " 0   MSSubClass     1459 non-null   int64  \n",
      " 1   LotArea        1459 non-null   int64  \n",
      " 2   OverallQual    1459 non-null   int64  \n",
      " 3   OverallCond    1459 non-null   int64  \n",
      " 4   YearBuilt      1459 non-null   int64  \n",
      " 5   YearRemodAdd   1459 non-null   int64  \n",
      " 6   1stFlrSF       1459 non-null   int64  \n",
      " 7   2ndFlrSF       1459 non-null   int64  \n",
      " 8   LowQualFinSF   1459 non-null   int64  \n",
      " 9   GrLivArea      1459 non-null   int64  \n",
      " 10  FullBath       1459 non-null   int64  \n",
      " 11  HalfBath       1459 non-null   int64  \n",
      " 12  BedroomAbvGr   1459 non-null   int64  \n",
      " 13  KitchenAbvGr   1459 non-null   int64  \n",
      " 14  TotRmsAbvGrd   1459 non-null   int64  \n",
      " 15  Fireplaces     1459 non-null   int64  \n",
      " 16  WoodDeckSF     1459 non-null   int64  \n",
      " 17  OpenPorchSF    1459 non-null   int64  \n",
      " 18  EnclosedPorch  1459 non-null   int64  \n",
      " 19  3SsnPorch      1459 non-null   int64  \n",
      " 20  ScreenPorch    1459 non-null   int64  \n",
      " 21  PoolArea       1459 non-null   int64  \n",
      " 22  MiscVal        1459 non-null   int64  \n",
      " 23  MoSold         1459 non-null   int64  \n",
      " 24  YrSold         1459 non-null   int64  \n",
      " 25  LotFrontage    1459 non-null   float64\n",
      " 26  MasVnrArea     1459 non-null   float64\n",
      " 27  BsmtFinSF1     1459 non-null   float64\n",
      " 28  BsmtFinSF2     1459 non-null   float64\n",
      " 29  BsmtUnfSF      1459 non-null   float64\n",
      " 30  TotalBsmtSF    1459 non-null   float64\n",
      " 31  BsmtFullBath   1459 non-null   float64\n",
      " 32  BsmtHalfBath   1459 non-null   float64\n",
      " 33  GarageCars     1459 non-null   float64\n",
      " 34  GarageArea     1459 non-null   float64\n",
      "dtypes: float64(10), int64(25)\n",
      "memory usage: 410.3 KB\n"
     ]
    }
   ],
   "source": [
    "# Check numerical data\n",
    "test_numerical_data.info()"
   ]
  },
  {
   "cell_type": "code",
   "execution_count": 75,
   "id": "77a9c0c7",
   "metadata": {
    "scrolled": true
   },
   "outputs": [],
   "source": [
    "# Take categorical data\n",
    "test_categorical_data = test_dataframe.select_dtypes(include=[\"object\"]).copy()"
   ]
  },
  {
   "cell_type": "code",
   "execution_count": 76,
   "id": "7a40cbc4",
   "metadata": {
    "scrolled": true
   },
   "outputs": [
    {
     "name": "stdout",
     "output_type": "stream",
     "text": [
      "<class 'pandas.core.frame.DataFrame'>\n",
      "Int64Index: 1459 entries, 1461 to 2919\n",
      "Data columns (total 35 columns):\n",
      " #   Column         Non-Null Count  Dtype \n",
      "---  ------         --------------  ----- \n",
      " 0   Street         1459 non-null   object\n",
      " 1   LandContour    1459 non-null   object\n",
      " 2   LotConfig      1459 non-null   object\n",
      " 3   Neighborhood   1459 non-null   object\n",
      " 4   Condition1     1459 non-null   object\n",
      " 5   Condition2     1459 non-null   object\n",
      " 6   BldgType       1459 non-null   object\n",
      " 7   HouseStyle     1459 non-null   object\n",
      " 8   RoofMatl       1459 non-null   object\n",
      " 9   ExterQual      1459 non-null   object\n",
      " 10  ExterCond      1459 non-null   object\n",
      " 11  Foundation     1459 non-null   object\n",
      " 12  Heating        1459 non-null   object\n",
      " 13  HeatingQC      1459 non-null   object\n",
      " 14  CentralAir     1459 non-null   object\n",
      " 15  Electrical     1459 non-null   object\n",
      " 16  PavedDrive     1459 non-null   object\n",
      " 17  SaleCondition  1459 non-null   object\n",
      " 18  MSZoning       1459 non-null   object\n",
      " 19  Utilities      1459 non-null   object\n",
      " 20  Exterior1st    1459 non-null   object\n",
      " 21  Exterior2nd    1459 non-null   object\n",
      " 22  MasVnrType     1459 non-null   object\n",
      " 23  BsmtQual       1459 non-null   object\n",
      " 24  BsmtCond       1459 non-null   object\n",
      " 25  BsmtExposure   1459 non-null   object\n",
      " 26  BsmtFinType1   1459 non-null   object\n",
      " 27  BsmtFinType2   1459 non-null   object\n",
      " 28  KitchenQual    1459 non-null   object\n",
      " 29  Functional     1459 non-null   object\n",
      " 30  GarageType     1459 non-null   object\n",
      " 31  GarageFinish   1459 non-null   object\n",
      " 32  GarageQual     1459 non-null   object\n",
      " 33  GarageCond     1459 non-null   object\n",
      " 34  SaleType       1459 non-null   object\n",
      "dtypes: object(35)\n",
      "memory usage: 410.3+ KB\n"
     ]
    }
   ],
   "source": [
    "# Check categorical data\n",
    "test_categorical_data.info()"
   ]
  },
  {
   "cell_type": "code",
   "execution_count": 77,
   "id": "0259eb47",
   "metadata": {
    "scrolled": true
   },
   "outputs": [],
   "source": [
    "# Drop columns\n",
    "test_categorical_data.drop(drop_columns, inplace=True, axis=1)"
   ]
  },
  {
   "cell_type": "code",
   "execution_count": 78,
   "id": "5ceb7be5",
   "metadata": {
    "scrolled": true
   },
   "outputs": [
    {
     "name": "stdout",
     "output_type": "stream",
     "text": [
      "<class 'pandas.core.frame.DataFrame'>\n",
      "Int64Index: 1459 entries, 1461 to 2919\n",
      "Data columns (total 32 columns):\n",
      " #   Column         Non-Null Count  Dtype \n",
      "---  ------         --------------  ----- \n",
      " 0   Street         1459 non-null   object\n",
      " 1   LandContour    1459 non-null   object\n",
      " 2   LotConfig      1459 non-null   object\n",
      " 3   Condition1     1459 non-null   object\n",
      " 4   Condition2     1459 non-null   object\n",
      " 5   BldgType       1459 non-null   object\n",
      " 6   HouseStyle     1459 non-null   object\n",
      " 7   RoofMatl       1459 non-null   object\n",
      " 8   ExterQual      1459 non-null   object\n",
      " 9   ExterCond      1459 non-null   object\n",
      " 10  Foundation     1459 non-null   object\n",
      " 11  Heating        1459 non-null   object\n",
      " 12  HeatingQC      1459 non-null   object\n",
      " 13  CentralAir     1459 non-null   object\n",
      " 14  Electrical     1459 non-null   object\n",
      " 15  PavedDrive     1459 non-null   object\n",
      " 16  SaleCondition  1459 non-null   object\n",
      " 17  MSZoning       1459 non-null   object\n",
      " 18  Utilities      1459 non-null   object\n",
      " 19  MasVnrType     1459 non-null   object\n",
      " 20  BsmtQual       1459 non-null   object\n",
      " 21  BsmtCond       1459 non-null   object\n",
      " 22  BsmtExposure   1459 non-null   object\n",
      " 23  BsmtFinType1   1459 non-null   object\n",
      " 24  BsmtFinType2   1459 non-null   object\n",
      " 25  KitchenQual    1459 non-null   object\n",
      " 26  Functional     1459 non-null   object\n",
      " 27  GarageType     1459 non-null   object\n",
      " 28  GarageFinish   1459 non-null   object\n",
      " 29  GarageQual     1459 non-null   object\n",
      " 30  GarageCond     1459 non-null   object\n",
      " 31  SaleType       1459 non-null   object\n",
      "dtypes: object(32)\n",
      "memory usage: 376.1+ KB\n"
     ]
    }
   ],
   "source": [
    "# Check new updated categorical data\n",
    "test_categorical_data.info()"
   ]
  },
  {
   "cell_type": "code",
   "execution_count": 79,
   "id": "660195e9",
   "metadata": {
    "scrolled": true
   },
   "outputs": [],
   "source": [
    "# Encode the categorical variables\n",
    "test_categorical_data[ordinar_columns] = ordinar_encoder.transform(test_categorical_data[ordinar_columns])"
   ]
  },
  {
   "cell_type": "code",
   "execution_count": 80,
   "id": "85ef1ebd",
   "metadata": {
    "scrolled": true
   },
   "outputs": [
    {
     "name": "stdout",
     "output_type": "stream",
     "text": [
      "<class 'pandas.core.frame.DataFrame'>\n",
      "Int64Index: 1459 entries, 1461 to 2919\n",
      "Data columns (total 18 columns):\n",
      " #   Column        Non-Null Count  Dtype  \n",
      "---  ------        --------------  -----  \n",
      " 0   LandContour   1459 non-null   float64\n",
      " 1   Utilities     1459 non-null   float64\n",
      " 2   BldgType      1459 non-null   float64\n",
      " 3   HouseStyle    1459 non-null   float64\n",
      " 4   ExterQual     1459 non-null   float64\n",
      " 5   ExterCond     1459 non-null   float64\n",
      " 6   HeatingQC     1459 non-null   float64\n",
      " 7   CentralAir    1459 non-null   float64\n",
      " 8   KitchenQual   1459 non-null   float64\n",
      " 9   Functional    1459 non-null   float64\n",
      " 10  BsmtQual      1459 non-null   float64\n",
      " 11  BsmtCond      1459 non-null   float64\n",
      " 12  BsmtExposure  1459 non-null   float64\n",
      " 13  BsmtFinType1  1459 non-null   float64\n",
      " 14  BsmtFinType2  1459 non-null   float64\n",
      " 15  GarageFinish  1459 non-null   float64\n",
      " 16  GarageQual    1459 non-null   float64\n",
      " 17  GarageCond    1459 non-null   float64\n",
      "dtypes: float64(18)\n",
      "memory usage: 216.6 KB\n"
     ]
    }
   ],
   "source": [
    "# Check encoded data\n",
    "test_categorical_data[ordinar_columns].info()"
   ]
  },
  {
   "cell_type": "code",
   "execution_count": 81,
   "id": "d65408bd",
   "metadata": {
    "scrolled": true
   },
   "outputs": [],
   "source": [
    "# Encode data\n",
    "test_OH_data = onehot_encoder.transform(test_categorical_data[onehot_columns])\n",
    "\n",
    "# Prepare for concatenation and check\n",
    "test_OH_data = pd.DataFrame(test_OH_data).copy()\n",
    "\n",
    "# Make columns name string\n",
    "test_OH_data.columns = test_OH_data.columns.astype(str)"
   ]
  },
  {
   "cell_type": "code",
   "execution_count": 82,
   "id": "1fa6a311",
   "metadata": {
    "scrolled": true
   },
   "outputs": [
    {
     "data": {
      "text/html": [
       "<div>\n",
       "<style scoped>\n",
       "    .dataframe tbody tr th:only-of-type {\n",
       "        vertical-align: middle;\n",
       "    }\n",
       "\n",
       "    .dataframe tbody tr th {\n",
       "        vertical-align: top;\n",
       "    }\n",
       "\n",
       "    .dataframe thead th {\n",
       "        text-align: right;\n",
       "    }\n",
       "</style>\n",
       "<table border=\"1\" class=\"dataframe\">\n",
       "  <thead>\n",
       "    <tr style=\"text-align: right;\">\n",
       "      <th></th>\n",
       "      <th>0</th>\n",
       "      <th>1</th>\n",
       "      <th>2</th>\n",
       "      <th>3</th>\n",
       "      <th>4</th>\n",
       "      <th>5</th>\n",
       "      <th>6</th>\n",
       "      <th>7</th>\n",
       "      <th>8</th>\n",
       "      <th>9</th>\n",
       "      <th>...</th>\n",
       "      <th>72</th>\n",
       "      <th>73</th>\n",
       "      <th>74</th>\n",
       "      <th>75</th>\n",
       "      <th>76</th>\n",
       "      <th>77</th>\n",
       "      <th>78</th>\n",
       "      <th>79</th>\n",
       "      <th>80</th>\n",
       "      <th>81</th>\n",
       "    </tr>\n",
       "  </thead>\n",
       "  <tbody>\n",
       "    <tr>\n",
       "      <th>0</th>\n",
       "      <td>0.0</td>\n",
       "      <td>0.0</td>\n",
       "      <td>1.0</td>\n",
       "      <td>0.0</td>\n",
       "      <td>0.0</td>\n",
       "      <td>0.0</td>\n",
       "      <td>1.0</td>\n",
       "      <td>0.0</td>\n",
       "      <td>0.0</td>\n",
       "      <td>0.0</td>\n",
       "      <td>...</td>\n",
       "      <td>0.0</td>\n",
       "      <td>0.0</td>\n",
       "      <td>0.0</td>\n",
       "      <td>1.0</td>\n",
       "      <td>0.0</td>\n",
       "      <td>1.0</td>\n",
       "      <td>0.0</td>\n",
       "      <td>0.0</td>\n",
       "      <td>0.0</td>\n",
       "      <td>0.0</td>\n",
       "    </tr>\n",
       "    <tr>\n",
       "      <th>1</th>\n",
       "      <td>0.0</td>\n",
       "      <td>0.0</td>\n",
       "      <td>0.0</td>\n",
       "      <td>1.0</td>\n",
       "      <td>0.0</td>\n",
       "      <td>0.0</td>\n",
       "      <td>1.0</td>\n",
       "      <td>1.0</td>\n",
       "      <td>0.0</td>\n",
       "      <td>0.0</td>\n",
       "      <td>...</td>\n",
       "      <td>0.0</td>\n",
       "      <td>0.0</td>\n",
       "      <td>0.0</td>\n",
       "      <td>1.0</td>\n",
       "      <td>0.0</td>\n",
       "      <td>1.0</td>\n",
       "      <td>0.0</td>\n",
       "      <td>0.0</td>\n",
       "      <td>0.0</td>\n",
       "      <td>0.0</td>\n",
       "    </tr>\n",
       "    <tr>\n",
       "      <th>2</th>\n",
       "      <td>0.0</td>\n",
       "      <td>0.0</td>\n",
       "      <td>0.0</td>\n",
       "      <td>1.0</td>\n",
       "      <td>0.0</td>\n",
       "      <td>0.0</td>\n",
       "      <td>1.0</td>\n",
       "      <td>0.0</td>\n",
       "      <td>0.0</td>\n",
       "      <td>0.0</td>\n",
       "      <td>...</td>\n",
       "      <td>0.0</td>\n",
       "      <td>0.0</td>\n",
       "      <td>0.0</td>\n",
       "      <td>1.0</td>\n",
       "      <td>0.0</td>\n",
       "      <td>1.0</td>\n",
       "      <td>0.0</td>\n",
       "      <td>0.0</td>\n",
       "      <td>0.0</td>\n",
       "      <td>0.0</td>\n",
       "    </tr>\n",
       "    <tr>\n",
       "      <th>3</th>\n",
       "      <td>0.0</td>\n",
       "      <td>0.0</td>\n",
       "      <td>0.0</td>\n",
       "      <td>1.0</td>\n",
       "      <td>0.0</td>\n",
       "      <td>0.0</td>\n",
       "      <td>1.0</td>\n",
       "      <td>0.0</td>\n",
       "      <td>0.0</td>\n",
       "      <td>0.0</td>\n",
       "      <td>...</td>\n",
       "      <td>0.0</td>\n",
       "      <td>0.0</td>\n",
       "      <td>0.0</td>\n",
       "      <td>1.0</td>\n",
       "      <td>0.0</td>\n",
       "      <td>1.0</td>\n",
       "      <td>0.0</td>\n",
       "      <td>0.0</td>\n",
       "      <td>0.0</td>\n",
       "      <td>0.0</td>\n",
       "    </tr>\n",
       "    <tr>\n",
       "      <th>4</th>\n",
       "      <td>0.0</td>\n",
       "      <td>0.0</td>\n",
       "      <td>0.0</td>\n",
       "      <td>1.0</td>\n",
       "      <td>0.0</td>\n",
       "      <td>0.0</td>\n",
       "      <td>1.0</td>\n",
       "      <td>0.0</td>\n",
       "      <td>0.0</td>\n",
       "      <td>0.0</td>\n",
       "      <td>...</td>\n",
       "      <td>0.0</td>\n",
       "      <td>0.0</td>\n",
       "      <td>0.0</td>\n",
       "      <td>1.0</td>\n",
       "      <td>0.0</td>\n",
       "      <td>1.0</td>\n",
       "      <td>0.0</td>\n",
       "      <td>0.0</td>\n",
       "      <td>0.0</td>\n",
       "      <td>0.0</td>\n",
       "    </tr>\n",
       "    <tr>\n",
       "      <th>...</th>\n",
       "      <td>...</td>\n",
       "      <td>...</td>\n",
       "      <td>...</td>\n",
       "      <td>...</td>\n",
       "      <td>...</td>\n",
       "      <td>...</td>\n",
       "      <td>...</td>\n",
       "      <td>...</td>\n",
       "      <td>...</td>\n",
       "      <td>...</td>\n",
       "      <td>...</td>\n",
       "      <td>...</td>\n",
       "      <td>...</td>\n",
       "      <td>...</td>\n",
       "      <td>...</td>\n",
       "      <td>...</td>\n",
       "      <td>...</td>\n",
       "      <td>...</td>\n",
       "      <td>...</td>\n",
       "      <td>...</td>\n",
       "      <td>...</td>\n",
       "    </tr>\n",
       "    <tr>\n",
       "      <th>1449</th>\n",
       "      <td>0.0</td>\n",
       "      <td>0.0</td>\n",
       "      <td>0.0</td>\n",
       "      <td>0.0</td>\n",
       "      <td>1.0</td>\n",
       "      <td>0.0</td>\n",
       "      <td>1.0</td>\n",
       "      <td>0.0</td>\n",
       "      <td>0.0</td>\n",
       "      <td>0.0</td>\n",
       "      <td>...</td>\n",
       "      <td>0.0</td>\n",
       "      <td>0.0</td>\n",
       "      <td>0.0</td>\n",
       "      <td>1.0</td>\n",
       "      <td>0.0</td>\n",
       "      <td>1.0</td>\n",
       "      <td>0.0</td>\n",
       "      <td>0.0</td>\n",
       "      <td>0.0</td>\n",
       "      <td>0.0</td>\n",
       "    </tr>\n",
       "    <tr>\n",
       "      <th>1450</th>\n",
       "      <td>0.0</td>\n",
       "      <td>0.0</td>\n",
       "      <td>0.0</td>\n",
       "      <td>0.0</td>\n",
       "      <td>1.0</td>\n",
       "      <td>0.0</td>\n",
       "      <td>1.0</td>\n",
       "      <td>0.0</td>\n",
       "      <td>0.0</td>\n",
       "      <td>0.0</td>\n",
       "      <td>...</td>\n",
       "      <td>0.0</td>\n",
       "      <td>0.0</td>\n",
       "      <td>0.0</td>\n",
       "      <td>1.0</td>\n",
       "      <td>0.0</td>\n",
       "      <td>1.0</td>\n",
       "      <td>0.0</td>\n",
       "      <td>0.0</td>\n",
       "      <td>0.0</td>\n",
       "      <td>0.0</td>\n",
       "    </tr>\n",
       "    <tr>\n",
       "      <th>1451</th>\n",
       "      <td>0.0</td>\n",
       "      <td>0.0</td>\n",
       "      <td>0.0</td>\n",
       "      <td>1.0</td>\n",
       "      <td>0.0</td>\n",
       "      <td>0.0</td>\n",
       "      <td>1.0</td>\n",
       "      <td>0.0</td>\n",
       "      <td>0.0</td>\n",
       "      <td>0.0</td>\n",
       "      <td>...</td>\n",
       "      <td>0.0</td>\n",
       "      <td>0.0</td>\n",
       "      <td>0.0</td>\n",
       "      <td>1.0</td>\n",
       "      <td>0.0</td>\n",
       "      <td>1.0</td>\n",
       "      <td>0.0</td>\n",
       "      <td>0.0</td>\n",
       "      <td>0.0</td>\n",
       "      <td>0.0</td>\n",
       "    </tr>\n",
       "    <tr>\n",
       "      <th>1452</th>\n",
       "      <td>0.0</td>\n",
       "      <td>0.0</td>\n",
       "      <td>0.0</td>\n",
       "      <td>0.0</td>\n",
       "      <td>1.0</td>\n",
       "      <td>0.0</td>\n",
       "      <td>1.0</td>\n",
       "      <td>0.0</td>\n",
       "      <td>0.0</td>\n",
       "      <td>0.0</td>\n",
       "      <td>...</td>\n",
       "      <td>0.0</td>\n",
       "      <td>0.0</td>\n",
       "      <td>0.0</td>\n",
       "      <td>1.0</td>\n",
       "      <td>0.0</td>\n",
       "      <td>0.0</td>\n",
       "      <td>0.0</td>\n",
       "      <td>0.0</td>\n",
       "      <td>1.0</td>\n",
       "      <td>0.0</td>\n",
       "    </tr>\n",
       "    <tr>\n",
       "      <th>1453</th>\n",
       "      <td>0.0</td>\n",
       "      <td>0.0</td>\n",
       "      <td>0.0</td>\n",
       "      <td>0.0</td>\n",
       "      <td>1.0</td>\n",
       "      <td>0.0</td>\n",
       "      <td>1.0</td>\n",
       "      <td>0.0</td>\n",
       "      <td>0.0</td>\n",
       "      <td>0.0</td>\n",
       "      <td>...</td>\n",
       "      <td>0.0</td>\n",
       "      <td>0.0</td>\n",
       "      <td>0.0</td>\n",
       "      <td>1.0</td>\n",
       "      <td>0.0</td>\n",
       "      <td>1.0</td>\n",
       "      <td>0.0</td>\n",
       "      <td>0.0</td>\n",
       "      <td>0.0</td>\n",
       "      <td>0.0</td>\n",
       "    </tr>\n",
       "  </tbody>\n",
       "</table>\n",
       "<p>1454 rows × 82 columns</p>\n",
       "</div>"
      ],
      "text/plain": [
       "        0    1    2    3    4    5    6    7    8    9  ...   72   73   74  \\\n",
       "0     0.0  0.0  1.0  0.0  0.0  0.0  1.0  0.0  0.0  0.0  ...  0.0  0.0  0.0   \n",
       "1     0.0  0.0  0.0  1.0  0.0  0.0  1.0  1.0  0.0  0.0  ...  0.0  0.0  0.0   \n",
       "2     0.0  0.0  0.0  1.0  0.0  0.0  1.0  0.0  0.0  0.0  ...  0.0  0.0  0.0   \n",
       "3     0.0  0.0  0.0  1.0  0.0  0.0  1.0  0.0  0.0  0.0  ...  0.0  0.0  0.0   \n",
       "4     0.0  0.0  0.0  1.0  0.0  0.0  1.0  0.0  0.0  0.0  ...  0.0  0.0  0.0   \n",
       "...   ...  ...  ...  ...  ...  ...  ...  ...  ...  ...  ...  ...  ...  ...   \n",
       "1449  0.0  0.0  0.0  0.0  1.0  0.0  1.0  0.0  0.0  0.0  ...  0.0  0.0  0.0   \n",
       "1450  0.0  0.0  0.0  0.0  1.0  0.0  1.0  0.0  0.0  0.0  ...  0.0  0.0  0.0   \n",
       "1451  0.0  0.0  0.0  1.0  0.0  0.0  1.0  0.0  0.0  0.0  ...  0.0  0.0  0.0   \n",
       "1452  0.0  0.0  0.0  0.0  1.0  0.0  1.0  0.0  0.0  0.0  ...  0.0  0.0  0.0   \n",
       "1453  0.0  0.0  0.0  0.0  1.0  0.0  1.0  0.0  0.0  0.0  ...  0.0  0.0  0.0   \n",
       "\n",
       "       75   76   77   78   79   80   81  \n",
       "0     1.0  0.0  1.0  0.0  0.0  0.0  0.0  \n",
       "1     1.0  0.0  1.0  0.0  0.0  0.0  0.0  \n",
       "2     1.0  0.0  1.0  0.0  0.0  0.0  0.0  \n",
       "3     1.0  0.0  1.0  0.0  0.0  0.0  0.0  \n",
       "4     1.0  0.0  1.0  0.0  0.0  0.0  0.0  \n",
       "...   ...  ...  ...  ...  ...  ...  ...  \n",
       "1449  1.0  0.0  1.0  0.0  0.0  0.0  0.0  \n",
       "1450  1.0  0.0  1.0  0.0  0.0  0.0  0.0  \n",
       "1451  1.0  0.0  1.0  0.0  0.0  0.0  0.0  \n",
       "1452  1.0  0.0  0.0  0.0  0.0  1.0  0.0  \n",
       "1453  1.0  0.0  1.0  0.0  0.0  0.0  0.0  \n",
       "\n",
       "[1454 rows x 82 columns]"
      ]
     },
     "execution_count": 82,
     "metadata": {},
     "output_type": "execute_result"
    }
   ],
   "source": [
    "# Check encoded data\n",
    "test_OH_data.head(-5)"
   ]
  },
  {
   "cell_type": "code",
   "execution_count": 83,
   "id": "79280770",
   "metadata": {
    "scrolled": true
   },
   "outputs": [],
   "source": [
    "# Prepare index for concatination\n",
    "test_OH_data.set_index(test_OH_data.index + 1461, drop=False, inplace=True)\n",
    "\n",
    "# Concat data parts\n",
    "test_dataframe = pd.concat([test_numerical_data, test_categorical_data[ordinar_columns], test_OH_data], axis=1)"
   ]
  },
  {
   "cell_type": "code",
   "execution_count": 84,
   "id": "c843f429",
   "metadata": {
    "scrolled": true
   },
   "outputs": [
    {
     "data": {
      "text/html": [
       "<div>\n",
       "<style scoped>\n",
       "    .dataframe tbody tr th:only-of-type {\n",
       "        vertical-align: middle;\n",
       "    }\n",
       "\n",
       "    .dataframe tbody tr th {\n",
       "        vertical-align: top;\n",
       "    }\n",
       "\n",
       "    .dataframe thead th {\n",
       "        text-align: right;\n",
       "    }\n",
       "</style>\n",
       "<table border=\"1\" class=\"dataframe\">\n",
       "  <thead>\n",
       "    <tr style=\"text-align: right;\">\n",
       "      <th></th>\n",
       "      <th>MSSubClass</th>\n",
       "      <th>LotArea</th>\n",
       "      <th>OverallQual</th>\n",
       "      <th>OverallCond</th>\n",
       "      <th>YearBuilt</th>\n",
       "      <th>YearRemodAdd</th>\n",
       "      <th>1stFlrSF</th>\n",
       "      <th>2ndFlrSF</th>\n",
       "      <th>LowQualFinSF</th>\n",
       "      <th>GrLivArea</th>\n",
       "      <th>...</th>\n",
       "      <th>72</th>\n",
       "      <th>73</th>\n",
       "      <th>74</th>\n",
       "      <th>75</th>\n",
       "      <th>76</th>\n",
       "      <th>77</th>\n",
       "      <th>78</th>\n",
       "      <th>79</th>\n",
       "      <th>80</th>\n",
       "      <th>81</th>\n",
       "    </tr>\n",
       "  </thead>\n",
       "  <tbody>\n",
       "    <tr>\n",
       "      <th>1461</th>\n",
       "      <td>20</td>\n",
       "      <td>11622</td>\n",
       "      <td>5</td>\n",
       "      <td>6</td>\n",
       "      <td>1961</td>\n",
       "      <td>1961</td>\n",
       "      <td>896</td>\n",
       "      <td>0</td>\n",
       "      <td>0</td>\n",
       "      <td>896</td>\n",
       "      <td>...</td>\n",
       "      <td>0.0</td>\n",
       "      <td>0.0</td>\n",
       "      <td>0.0</td>\n",
       "      <td>1.0</td>\n",
       "      <td>0.0</td>\n",
       "      <td>1.0</td>\n",
       "      <td>0.0</td>\n",
       "      <td>0.0</td>\n",
       "      <td>0.0</td>\n",
       "      <td>0.0</td>\n",
       "    </tr>\n",
       "    <tr>\n",
       "      <th>1462</th>\n",
       "      <td>20</td>\n",
       "      <td>14267</td>\n",
       "      <td>6</td>\n",
       "      <td>6</td>\n",
       "      <td>1958</td>\n",
       "      <td>1958</td>\n",
       "      <td>1329</td>\n",
       "      <td>0</td>\n",
       "      <td>0</td>\n",
       "      <td>1329</td>\n",
       "      <td>...</td>\n",
       "      <td>0.0</td>\n",
       "      <td>0.0</td>\n",
       "      <td>0.0</td>\n",
       "      <td>1.0</td>\n",
       "      <td>0.0</td>\n",
       "      <td>1.0</td>\n",
       "      <td>0.0</td>\n",
       "      <td>0.0</td>\n",
       "      <td>0.0</td>\n",
       "      <td>0.0</td>\n",
       "    </tr>\n",
       "    <tr>\n",
       "      <th>1463</th>\n",
       "      <td>60</td>\n",
       "      <td>13830</td>\n",
       "      <td>5</td>\n",
       "      <td>5</td>\n",
       "      <td>1997</td>\n",
       "      <td>1998</td>\n",
       "      <td>928</td>\n",
       "      <td>701</td>\n",
       "      <td>0</td>\n",
       "      <td>1629</td>\n",
       "      <td>...</td>\n",
       "      <td>0.0</td>\n",
       "      <td>0.0</td>\n",
       "      <td>0.0</td>\n",
       "      <td>1.0</td>\n",
       "      <td>0.0</td>\n",
       "      <td>1.0</td>\n",
       "      <td>0.0</td>\n",
       "      <td>0.0</td>\n",
       "      <td>0.0</td>\n",
       "      <td>0.0</td>\n",
       "    </tr>\n",
       "    <tr>\n",
       "      <th>1464</th>\n",
       "      <td>60</td>\n",
       "      <td>9978</td>\n",
       "      <td>6</td>\n",
       "      <td>6</td>\n",
       "      <td>1998</td>\n",
       "      <td>1998</td>\n",
       "      <td>926</td>\n",
       "      <td>678</td>\n",
       "      <td>0</td>\n",
       "      <td>1604</td>\n",
       "      <td>...</td>\n",
       "      <td>0.0</td>\n",
       "      <td>0.0</td>\n",
       "      <td>0.0</td>\n",
       "      <td>1.0</td>\n",
       "      <td>0.0</td>\n",
       "      <td>1.0</td>\n",
       "      <td>0.0</td>\n",
       "      <td>0.0</td>\n",
       "      <td>0.0</td>\n",
       "      <td>0.0</td>\n",
       "    </tr>\n",
       "    <tr>\n",
       "      <th>1465</th>\n",
       "      <td>120</td>\n",
       "      <td>5005</td>\n",
       "      <td>8</td>\n",
       "      <td>5</td>\n",
       "      <td>1992</td>\n",
       "      <td>1992</td>\n",
       "      <td>1280</td>\n",
       "      <td>0</td>\n",
       "      <td>0</td>\n",
       "      <td>1280</td>\n",
       "      <td>...</td>\n",
       "      <td>0.0</td>\n",
       "      <td>0.0</td>\n",
       "      <td>0.0</td>\n",
       "      <td>1.0</td>\n",
       "      <td>0.0</td>\n",
       "      <td>1.0</td>\n",
       "      <td>0.0</td>\n",
       "      <td>0.0</td>\n",
       "      <td>0.0</td>\n",
       "      <td>0.0</td>\n",
       "    </tr>\n",
       "    <tr>\n",
       "      <th>...</th>\n",
       "      <td>...</td>\n",
       "      <td>...</td>\n",
       "      <td>...</td>\n",
       "      <td>...</td>\n",
       "      <td>...</td>\n",
       "      <td>...</td>\n",
       "      <td>...</td>\n",
       "      <td>...</td>\n",
       "      <td>...</td>\n",
       "      <td>...</td>\n",
       "      <td>...</td>\n",
       "      <td>...</td>\n",
       "      <td>...</td>\n",
       "      <td>...</td>\n",
       "      <td>...</td>\n",
       "      <td>...</td>\n",
       "      <td>...</td>\n",
       "      <td>...</td>\n",
       "      <td>...</td>\n",
       "      <td>...</td>\n",
       "      <td>...</td>\n",
       "    </tr>\n",
       "    <tr>\n",
       "      <th>2910</th>\n",
       "      <td>180</td>\n",
       "      <td>1470</td>\n",
       "      <td>4</td>\n",
       "      <td>6</td>\n",
       "      <td>1970</td>\n",
       "      <td>1970</td>\n",
       "      <td>630</td>\n",
       "      <td>0</td>\n",
       "      <td>0</td>\n",
       "      <td>630</td>\n",
       "      <td>...</td>\n",
       "      <td>0.0</td>\n",
       "      <td>0.0</td>\n",
       "      <td>0.0</td>\n",
       "      <td>1.0</td>\n",
       "      <td>0.0</td>\n",
       "      <td>1.0</td>\n",
       "      <td>0.0</td>\n",
       "      <td>0.0</td>\n",
       "      <td>0.0</td>\n",
       "      <td>0.0</td>\n",
       "    </tr>\n",
       "    <tr>\n",
       "      <th>2911</th>\n",
       "      <td>160</td>\n",
       "      <td>1484</td>\n",
       "      <td>4</td>\n",
       "      <td>4</td>\n",
       "      <td>1972</td>\n",
       "      <td>1972</td>\n",
       "      <td>546</td>\n",
       "      <td>546</td>\n",
       "      <td>0</td>\n",
       "      <td>1092</td>\n",
       "      <td>...</td>\n",
       "      <td>0.0</td>\n",
       "      <td>0.0</td>\n",
       "      <td>0.0</td>\n",
       "      <td>1.0</td>\n",
       "      <td>0.0</td>\n",
       "      <td>1.0</td>\n",
       "      <td>0.0</td>\n",
       "      <td>0.0</td>\n",
       "      <td>0.0</td>\n",
       "      <td>0.0</td>\n",
       "    </tr>\n",
       "    <tr>\n",
       "      <th>2912</th>\n",
       "      <td>20</td>\n",
       "      <td>13384</td>\n",
       "      <td>5</td>\n",
       "      <td>5</td>\n",
       "      <td>1969</td>\n",
       "      <td>1979</td>\n",
       "      <td>1360</td>\n",
       "      <td>0</td>\n",
       "      <td>0</td>\n",
       "      <td>1360</td>\n",
       "      <td>...</td>\n",
       "      <td>0.0</td>\n",
       "      <td>0.0</td>\n",
       "      <td>0.0</td>\n",
       "      <td>1.0</td>\n",
       "      <td>0.0</td>\n",
       "      <td>1.0</td>\n",
       "      <td>0.0</td>\n",
       "      <td>0.0</td>\n",
       "      <td>0.0</td>\n",
       "      <td>0.0</td>\n",
       "    </tr>\n",
       "    <tr>\n",
       "      <th>2913</th>\n",
       "      <td>160</td>\n",
       "      <td>1533</td>\n",
       "      <td>4</td>\n",
       "      <td>5</td>\n",
       "      <td>1970</td>\n",
       "      <td>1970</td>\n",
       "      <td>546</td>\n",
       "      <td>546</td>\n",
       "      <td>0</td>\n",
       "      <td>1092</td>\n",
       "      <td>...</td>\n",
       "      <td>0.0</td>\n",
       "      <td>0.0</td>\n",
       "      <td>0.0</td>\n",
       "      <td>1.0</td>\n",
       "      <td>0.0</td>\n",
       "      <td>0.0</td>\n",
       "      <td>0.0</td>\n",
       "      <td>0.0</td>\n",
       "      <td>1.0</td>\n",
       "      <td>0.0</td>\n",
       "    </tr>\n",
       "    <tr>\n",
       "      <th>2914</th>\n",
       "      <td>160</td>\n",
       "      <td>1526</td>\n",
       "      <td>4</td>\n",
       "      <td>5</td>\n",
       "      <td>1970</td>\n",
       "      <td>1970</td>\n",
       "      <td>546</td>\n",
       "      <td>546</td>\n",
       "      <td>0</td>\n",
       "      <td>1092</td>\n",
       "      <td>...</td>\n",
       "      <td>0.0</td>\n",
       "      <td>0.0</td>\n",
       "      <td>0.0</td>\n",
       "      <td>1.0</td>\n",
       "      <td>0.0</td>\n",
       "      <td>1.0</td>\n",
       "      <td>0.0</td>\n",
       "      <td>0.0</td>\n",
       "      <td>0.0</td>\n",
       "      <td>0.0</td>\n",
       "    </tr>\n",
       "  </tbody>\n",
       "</table>\n",
       "<p>1454 rows × 135 columns</p>\n",
       "</div>"
      ],
      "text/plain": [
       "      MSSubClass  LotArea  OverallQual  OverallCond  YearBuilt  YearRemodAdd  \\\n",
       "1461          20    11622            5            6       1961          1961   \n",
       "1462          20    14267            6            6       1958          1958   \n",
       "1463          60    13830            5            5       1997          1998   \n",
       "1464          60     9978            6            6       1998          1998   \n",
       "1465         120     5005            8            5       1992          1992   \n",
       "...          ...      ...          ...          ...        ...           ...   \n",
       "2910         180     1470            4            6       1970          1970   \n",
       "2911         160     1484            4            4       1972          1972   \n",
       "2912          20    13384            5            5       1969          1979   \n",
       "2913         160     1533            4            5       1970          1970   \n",
       "2914         160     1526            4            5       1970          1970   \n",
       "\n",
       "      1stFlrSF  2ndFlrSF  LowQualFinSF  GrLivArea  ...   72   73   74   75  \\\n",
       "1461       896         0             0        896  ...  0.0  0.0  0.0  1.0   \n",
       "1462      1329         0             0       1329  ...  0.0  0.0  0.0  1.0   \n",
       "1463       928       701             0       1629  ...  0.0  0.0  0.0  1.0   \n",
       "1464       926       678             0       1604  ...  0.0  0.0  0.0  1.0   \n",
       "1465      1280         0             0       1280  ...  0.0  0.0  0.0  1.0   \n",
       "...        ...       ...           ...        ...  ...  ...  ...  ...  ...   \n",
       "2910       630         0             0        630  ...  0.0  0.0  0.0  1.0   \n",
       "2911       546       546             0       1092  ...  0.0  0.0  0.0  1.0   \n",
       "2912      1360         0             0       1360  ...  0.0  0.0  0.0  1.0   \n",
       "2913       546       546             0       1092  ...  0.0  0.0  0.0  1.0   \n",
       "2914       546       546             0       1092  ...  0.0  0.0  0.0  1.0   \n",
       "\n",
       "       76   77   78   79   80   81  \n",
       "1461  0.0  1.0  0.0  0.0  0.0  0.0  \n",
       "1462  0.0  1.0  0.0  0.0  0.0  0.0  \n",
       "1463  0.0  1.0  0.0  0.0  0.0  0.0  \n",
       "1464  0.0  1.0  0.0  0.0  0.0  0.0  \n",
       "1465  0.0  1.0  0.0  0.0  0.0  0.0  \n",
       "...   ...  ...  ...  ...  ...  ...  \n",
       "2910  0.0  1.0  0.0  0.0  0.0  0.0  \n",
       "2911  0.0  1.0  0.0  0.0  0.0  0.0  \n",
       "2912  0.0  1.0  0.0  0.0  0.0  0.0  \n",
       "2913  0.0  0.0  0.0  0.0  1.0  0.0  \n",
       "2914  0.0  1.0  0.0  0.0  0.0  0.0  \n",
       "\n",
       "[1454 rows x 135 columns]"
      ]
     },
     "execution_count": 84,
     "metadata": {},
     "output_type": "execute_result"
    }
   ],
   "source": [
    "# Check data\n",
    "test_dataframe.head(-5)"
   ]
  },
  {
   "cell_type": "markdown",
   "id": "37367af1",
   "metadata": {},
   "source": [
    "#### MAKE PREDICTIONS"
   ]
  },
  {
   "cell_type": "code",
   "execution_count": 85,
   "id": "251468f1",
   "metadata": {},
   "outputs": [],
   "source": [
    "# Make final prediction\n",
    "predictions = model.predict(test_dataframe[train_dataframe.columns])"
   ]
  },
  {
   "cell_type": "code",
   "execution_count": 86,
   "id": "9def285c",
   "metadata": {},
   "outputs": [],
   "source": [
    "# Create the submission Ids\n",
    "submission_ids = pd.Series(range(1460, 2919))"
   ]
  },
  {
   "cell_type": "code",
   "execution_count": 87,
   "id": "1eb906f1",
   "metadata": {},
   "outputs": [
    {
     "data": {
      "text/plain": [
       "(1459,)"
      ]
     },
     "execution_count": 87,
     "metadata": {},
     "output_type": "execute_result"
    }
   ],
   "source": [
    "# Check ids\n",
    "submission_ids.shape"
   ]
  },
  {
   "cell_type": "code",
   "execution_count": 88,
   "id": "d71cd892",
   "metadata": {
    "scrolled": true
   },
   "outputs": [],
   "source": [
    "# Create submission dataframe\n",
    "submisson_dataframe = pd.DataFrame(\n",
    "                                    {\n",
    "                                        \"Id\": submission_ids,\n",
    "                                        \"SalePrice\": predictions\n",
    "                                    }\n",
    "                                 )\n",
    "\n",
    "# Change ids\n",
    "submisson_dataframe.Id += 1"
   ]
  },
  {
   "cell_type": "code",
   "execution_count": 89,
   "id": "dbc1b9ae",
   "metadata": {
    "scrolled": true
   },
   "outputs": [
    {
     "data": {
      "text/html": [
       "<div>\n",
       "<style scoped>\n",
       "    .dataframe tbody tr th:only-of-type {\n",
       "        vertical-align: middle;\n",
       "    }\n",
       "\n",
       "    .dataframe tbody tr th {\n",
       "        vertical-align: top;\n",
       "    }\n",
       "\n",
       "    .dataframe thead th {\n",
       "        text-align: right;\n",
       "    }\n",
       "</style>\n",
       "<table border=\"1\" class=\"dataframe\">\n",
       "  <thead>\n",
       "    <tr style=\"text-align: right;\">\n",
       "      <th></th>\n",
       "      <th>Id</th>\n",
       "      <th>SalePrice</th>\n",
       "    </tr>\n",
       "  </thead>\n",
       "  <tbody>\n",
       "    <tr>\n",
       "      <th>0</th>\n",
       "      <td>1461</td>\n",
       "      <td>125500.0</td>\n",
       "    </tr>\n",
       "    <tr>\n",
       "      <th>1</th>\n",
       "      <td>1462</td>\n",
       "      <td>147750.0</td>\n",
       "    </tr>\n",
       "    <tr>\n",
       "      <th>2</th>\n",
       "      <td>1463</td>\n",
       "      <td>204500.0</td>\n",
       "    </tr>\n",
       "    <tr>\n",
       "      <th>3</th>\n",
       "      <td>1464</td>\n",
       "      <td>178450.0</td>\n",
       "    </tr>\n",
       "    <tr>\n",
       "      <th>4</th>\n",
       "      <td>1465</td>\n",
       "      <td>248000.0</td>\n",
       "    </tr>\n",
       "    <tr>\n",
       "      <th>...</th>\n",
       "      <td>...</td>\n",
       "      <td>...</td>\n",
       "    </tr>\n",
       "    <tr>\n",
       "      <th>1449</th>\n",
       "      <td>2910</td>\n",
       "      <td>87500.0</td>\n",
       "    </tr>\n",
       "    <tr>\n",
       "      <th>1450</th>\n",
       "      <td>2911</td>\n",
       "      <td>110000.0</td>\n",
       "    </tr>\n",
       "    <tr>\n",
       "      <th>1451</th>\n",
       "      <td>2912</td>\n",
       "      <td>161500.0</td>\n",
       "    </tr>\n",
       "    <tr>\n",
       "      <th>1452</th>\n",
       "      <td>2913</td>\n",
       "      <td>87500.0</td>\n",
       "    </tr>\n",
       "    <tr>\n",
       "      <th>1453</th>\n",
       "      <td>2914</td>\n",
       "      <td>95250.0</td>\n",
       "    </tr>\n",
       "  </tbody>\n",
       "</table>\n",
       "<p>1454 rows × 2 columns</p>\n",
       "</div>"
      ],
      "text/plain": [
       "        Id  SalePrice\n",
       "0     1461   125500.0\n",
       "1     1462   147750.0\n",
       "2     1463   204500.0\n",
       "3     1464   178450.0\n",
       "4     1465   248000.0\n",
       "...    ...        ...\n",
       "1449  2910    87500.0\n",
       "1450  2911   110000.0\n",
       "1451  2912   161500.0\n",
       "1452  2913    87500.0\n",
       "1453  2914    95250.0\n",
       "\n",
       "[1454 rows x 2 columns]"
      ]
     },
     "execution_count": 89,
     "metadata": {},
     "output_type": "execute_result"
    }
   ],
   "source": [
    "# Check the result\n",
    "submisson_dataframe.head(-5)"
   ]
  },
  {
   "cell_type": "code",
   "execution_count": 90,
   "id": "b98bdeb1",
   "metadata": {},
   "outputs": [],
   "source": [
    "# Create a submission file\n",
    "submisson_dataframe.to_csv(\"submission.csv\", index=False,)"
   ]
  },
  {
   "cell_type": "markdown",
   "id": "608ed7ca",
   "metadata": {},
   "source": [
    "#### WORK WITH PIPELINE"
   ]
  },
  {
   "cell_type": "code",
   "execution_count": 91,
   "id": "27783912",
   "metadata": {},
   "outputs": [],
   "source": [
    "# Preprocessing pipeline for numerical data\n",
    "numerical_transformer = SimpleImputer(strategy=\"median\")\n",
    "\n",
    "# Preprocessing pipeline for categorical data\n",
    "categorical_imputer = SimpleImputer(strategy=\"most_frequent\")\n",
    "\n",
    "# Preprocessing for categorical one-hot data\n",
    "OH_categorical_transformer = Pipeline(steps=[\n",
    "                                                (\"filling\", categorical_imputer),\n",
    "                                                (\"one_hot_encoding\", onehot_encoder)\n",
    "                                            ])\n",
    "\n",
    "# Preprocessing for categorical ordinar encoding data\n",
    "OE_categorical_transformer = Pipeline(steps=[\n",
    "                                                (\"filling\", categorical_imputer), \n",
    "                                                (\"one_hot_encoding\", ordinar_encoder)])"
   ]
  },
  {
   "cell_type": "code",
   "execution_count": 92,
   "id": "a840a640",
   "metadata": {},
   "outputs": [],
   "source": [
    "# Bundle preprocessing for numerical and categorical data\n",
    "preprocessor = ColumnTransformer(\n",
    "                                    transformers=[\n",
    "                                                    (\"OH_categories\", OH_categorical_transformer, onehot_columns),\n",
    "                                                    (\"OE_categories\", OE_categorical_transformer, ordinar_columns),\n",
    "                                                    (\"numerical_data\", numerical_transformer, numerical_data.columns)\n",
    "                                                 ])"
   ]
  },
  {
   "cell_type": "code",
   "execution_count": 93,
   "id": "7bc1ed7d",
   "metadata": {},
   "outputs": [],
   "source": [
    "# Create final pipeline\n",
    "final_pipeline = Pipeline(steps=[\n",
    "                                    (\"preprocessor\", preprocessor),\n",
    "                                    (\"model\", model)\n",
    "                                ])\n",
    "\n",
    "# Preprocessing of training data, fit model \n",
    "final_pipeline.fit(pipeline_train_dataframe, Y);"
   ]
  },
  {
   "cell_type": "markdown",
   "id": "cc5d3c92",
   "metadata": {},
   "source": [
    "#### PIPELINE PREDICTIONS"
   ]
  },
  {
   "cell_type": "code",
   "execution_count": 94,
   "id": "91321fc6",
   "metadata": {},
   "outputs": [],
   "source": [
    "# Maiden prediction by pipeline\n",
    "pipeline_prediction = final_pipeline.predict(pipeline_test_dataframe)"
   ]
  },
  {
   "cell_type": "code",
   "execution_count": 95,
   "id": "bb5b9cd6",
   "metadata": {},
   "outputs": [
    {
     "data": {
      "text/plain": [
       "array([125500., 147750., 204500., ..., 161500.,  95250., 250000.])"
      ]
     },
     "execution_count": 95,
     "metadata": {},
     "output_type": "execute_result"
    }
   ],
   "source": [
    "# Check pipeline predictions\n",
    "pipeline_prediction"
   ]
  }
 ],
 "metadata": {
  "kernelspec": {
   "display_name": "Python 3 (ipykernel)",
   "language": "python",
   "name": "python3"
  },
  "language_info": {
   "codemirror_mode": {
    "name": "ipython",
    "version": 3
   },
   "file_extension": ".py",
   "mimetype": "text/x-python",
   "name": "python",
   "nbconvert_exporter": "python",
   "pygments_lexer": "ipython3",
   "version": "3.11.5"
  }
 },
 "nbformat": 4,
 "nbformat_minor": 5
}
