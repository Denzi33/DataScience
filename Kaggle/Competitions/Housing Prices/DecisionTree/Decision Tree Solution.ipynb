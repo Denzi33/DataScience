{
 "cells": [
  {
   "cell_type": "markdown",
   "id": "90bf8c51",
   "metadata": {},
   "source": [
    "# Housing Prices Competition"
   ]
  },
  {
   "cell_type": "markdown",
   "id": "47a85653",
   "metadata": {},
   "source": [
    "#### What we used:\n",
    "* \"Decision Tree Regression\" as model\n",
    "* \"MAE\" as metric\n",
    "* \"train_test_split\" to trunk data to train/validate/test parts\n",
    "* \"LabelEncoder\" to decode object features to digit"
   ]
  },
  {
   "cell_type": "code",
   "execution_count": 1,
   "id": "5c4521de",
   "metadata": {},
   "outputs": [
    {
     "name": "stdout",
     "output_type": "stream",
     "text": [
      "Collecting sklearn\n",
      "  Using cached sklearn-0.0.post12.tar.gz (2.6 kB)\n",
      "  Preparing metadata (setup.py): started\n",
      "  Preparing metadata (setup.py): finished with status 'error'\n",
      "Note: you may need to restart the kernel to use updated packages.\n"
     ]
    },
    {
     "name": "stderr",
     "output_type": "stream",
     "text": [
      "  error: subprocess-exited-with-error\n",
      "  \n",
      "  python setup.py egg_info did not run successfully.\n",
      "  exit code: 1\n",
      "  \n",
      "  [15 lines of output]\n",
      "  The 'sklearn' PyPI package is deprecated, use 'scikit-learn'\n",
      "  rather than 'sklearn' for pip commands.\n",
      "  \n",
      "  Here is how to fix this error in the main use cases:\n",
      "  - use 'pip install scikit-learn' rather than 'pip install sklearn'\n",
      "  - replace 'sklearn' by 'scikit-learn' in your pip requirements files\n",
      "    (requirements.txt, setup.py, setup.cfg, Pipfile, etc ...)\n",
      "  - if the 'sklearn' package is used by one of your dependencies,\n",
      "    it would be great if you take some time to track which package uses\n",
      "    'sklearn' instead of 'scikit-learn' and report it to their issue tracker\n",
      "  - as a last resort, set the environment variable\n",
      "    SKLEARN_ALLOW_DEPRECATED_SKLEARN_PACKAGE_INSTALL=True to avoid this error\n",
      "  \n",
      "  More information is available at\n",
      "  https://github.com/scikit-learn/sklearn-pypi-package\n",
      "  [end of output]\n",
      "  \n",
      "  note: This error originates from a subprocess, and is likely not a problem with pip.\n",
      "error: metadata-generation-failed\n",
      "\n",
      "Encountered error while generating package metadata.\n",
      "\n",
      "See above for output.\n",
      "\n",
      "note: This is an issue with the package mentioned above, not pip.\n",
      "hint: See above for details.\n"
     ]
    }
   ],
   "source": [
    "pip install sklearn"
   ]
  },
  {
   "cell_type": "code",
   "execution_count": 2,
   "id": "fedda1b2",
   "metadata": {},
   "outputs": [],
   "source": [
    "# The main module for manipulating with the data:\n",
    "import pandas as pd"
   ]
  },
  {
   "cell_type": "code",
   "execution_count": 3,
   "id": "941bbe30",
   "metadata": {},
   "outputs": [],
   "source": [
    "# The main familiar using model:\n",
    "from sklearn.tree import DecisionTreeRegressor\n",
    "# To encode categories parameters:\n",
    "from sklearn.preprocessing import LabelEncoder\n",
    "# The main metric for model:\n",
    "from sklearn.metrics import mean_absolute_error\n",
    "# The method for trunking data to train and validate parts:\n",
    "from sklearn.model_selection import train_test_split"
   ]
  },
  {
   "cell_type": "code",
   "execution_count": 4,
   "id": "c83767d9",
   "metadata": {},
   "outputs": [
    {
     "data": {
      "text/plain": [
       "Index(['Id', 'MSSubClass', 'MSZoning', 'LotFrontage', 'LotArea', 'Street',\n",
       "       'Alley', 'LotShape', 'LandContour', 'Utilities', 'LotConfig',\n",
       "       'LandSlope', 'Neighborhood', 'Condition1', 'Condition2', 'BldgType',\n",
       "       'HouseStyle', 'OverallQual', 'OverallCond', 'YearBuilt', 'YearRemodAdd',\n",
       "       'RoofStyle', 'RoofMatl', 'Exterior1st', 'Exterior2nd', 'MasVnrType',\n",
       "       'MasVnrArea', 'ExterQual', 'ExterCond', 'Foundation', 'BsmtQual',\n",
       "       'BsmtCond', 'BsmtExposure', 'BsmtFinType1', 'BsmtFinSF1',\n",
       "       'BsmtFinType2', 'BsmtFinSF2', 'BsmtUnfSF', 'TotalBsmtSF', 'Heating',\n",
       "       'HeatingQC', 'CentralAir', 'Electrical', '1stFlrSF', '2ndFlrSF',\n",
       "       'LowQualFinSF', 'GrLivArea', 'BsmtFullBath', 'BsmtHalfBath', 'FullBath',\n",
       "       'HalfBath', 'BedroomAbvGr', 'KitchenAbvGr', 'KitchenQual',\n",
       "       'TotRmsAbvGrd', 'Functional', 'Fireplaces', 'FireplaceQu', 'GarageType',\n",
       "       'GarageYrBlt', 'GarageFinish', 'GarageCars', 'GarageArea', 'GarageQual',\n",
       "       'GarageCond', 'PavedDrive', 'WoodDeckSF', 'OpenPorchSF',\n",
       "       'EnclosedPorch', '3SsnPorch', 'ScreenPorch', 'PoolArea', 'PoolQC',\n",
       "       'Fence', 'MiscFeature', 'MiscVal', 'MoSold', 'YrSold', 'SaleType',\n",
       "       'SaleCondition', 'SalePrice'],\n",
       "      dtype='object')"
      ]
     },
     "execution_count": 4,
     "metadata": {},
     "output_type": "execute_result"
    }
   ],
   "source": [
    "# The paths of data:\n",
    "test_path = \"../test_data.csv\"\n",
    "train_path = \"../train_data.csv\"\n",
    "\n",
    "# Clone data to dataframe:\n",
    "test_dataframe = pd.read_csv(test_path)\n",
    "train_dataframe = pd.read_csv(train_path)\n",
    "\n",
    "# Check columns:\n",
    "train_dataframe.columns"
   ]
  },
  {
   "cell_type": "code",
   "execution_count": 5,
   "id": "503a6c71",
   "metadata": {},
   "outputs": [
    {
     "name": "stdout",
     "output_type": "stream",
     "text": [
      "<class 'pandas.core.frame.DataFrame'>\n",
      "RangeIndex: 1460 entries, 0 to 1459\n",
      "Data columns (total 18 columns):\n",
      " #   Column         Non-Null Count  Dtype \n",
      "---  ------         --------------  ----- \n",
      " 0   LotArea        1460 non-null   int64 \n",
      " 1   Utilities      1460 non-null   object\n",
      " 2   YearBuilt      1460 non-null   int64 \n",
      " 3   Exterior1st    1460 non-null   object\n",
      " 4   Foundation     1460 non-null   object\n",
      " 5   Heating        1460 non-null   object\n",
      " 6   CentralAir     1460 non-null   object\n",
      " 7   1stFlrSF       1460 non-null   int64 \n",
      " 8   2ndFlrSF       1460 non-null   int64 \n",
      " 9   BedroomAbvGr   1460 non-null   int64 \n",
      " 10  FullBath       1460 non-null   int64 \n",
      " 11  KitchenAbvGr   1460 non-null   int64 \n",
      " 12  TotRmsAbvGrd   1460 non-null   int64 \n",
      " 13  Fireplaces     1460 non-null   int64 \n",
      " 14  GarageArea     1460 non-null   int64 \n",
      " 15  OpenPorchSF    1460 non-null   int64 \n",
      " 16  EnclosedPorch  1460 non-null   int64 \n",
      " 17  PoolArea       1460 non-null   int64 \n",
      "dtypes: int64(13), object(5)\n",
      "memory usage: 205.4+ KB\n"
     ]
    }
   ],
   "source": [
    "# Take important features (a first view)\n",
    "# we remove all subjective parameters by type qualities:\n",
    "features = [\n",
    "            \"LotArea\", \"Utilities\", \"YearBuilt\", \"Exterior1st\", \"Foundation\", \"Heating\", \"CentralAir\", \"1stFlrSF\", \n",
    "            \"2ndFlrSF\", \"BedroomAbvGr\", \"FullBath\", \"KitchenAbvGr\", \"TotRmsAbvGrd\", \"Fireplaces\", \"GarageArea\", \n",
    "            \"OpenPorchSF\", \"EnclosedPorch\", \"PoolArea\"\n",
    "           ]\n",
    "\n",
    "# Take target feature:\n",
    "Y = train_dataframe.SalePrice\n",
    "\n",
    "# Take samples with necessary data columns:\n",
    "necessary_train_data = train_dataframe[features]\n",
    "\n",
    "# Check that we don't have null rows:\n",
    "necessary_train_data.info()"
   ]
  },
  {
   "cell_type": "code",
   "execution_count": 6,
   "id": "5d0bda9e",
   "metadata": {},
   "outputs": [
    {
     "data": {
      "text/plain": [
       "array(['AllPub', 'NoSeWa'], dtype=object)"
      ]
     },
     "execution_count": 6,
     "metadata": {},
     "output_type": "execute_result"
    }
   ],
   "source": [
    "# Check all values of categorical columns:\n",
    "necessary_train_data.Utilities.unique()"
   ]
  },
  {
   "cell_type": "code",
   "execution_count": 7,
   "id": "4e2851e5",
   "metadata": {},
   "outputs": [
    {
     "data": {
      "text/plain": [
       "array(['Y', 'N'], dtype=object)"
      ]
     },
     "execution_count": 7,
     "metadata": {},
     "output_type": "execute_result"
    }
   ],
   "source": [
    "necessary_train_data.CentralAir.unique()"
   ]
  },
  {
   "cell_type": "code",
   "execution_count": 8,
   "id": "f9cc41f5",
   "metadata": {},
   "outputs": [
    {
     "data": {
      "text/plain": [
       "array(['VinylSd', 'MetalSd', 'Wd Sdng', 'HdBoard', 'BrkFace', 'WdShing',\n",
       "       'CemntBd', 'Plywood', 'AsbShng', 'Stucco', 'BrkComm', 'AsphShn',\n",
       "       'Stone', 'ImStucc', 'CBlock'], dtype=object)"
      ]
     },
     "execution_count": 8,
     "metadata": {},
     "output_type": "execute_result"
    }
   ],
   "source": [
    "necessary_train_data.Exterior1st.unique()"
   ]
  },
  {
   "cell_type": "code",
   "execution_count": 9,
   "id": "7f65f6aa",
   "metadata": {},
   "outputs": [
    {
     "data": {
      "text/plain": [
       "array(['PConc', 'CBlock', 'BrkTil', 'Wood', 'Slab', 'Stone'], dtype=object)"
      ]
     },
     "execution_count": 9,
     "metadata": {},
     "output_type": "execute_result"
    }
   ],
   "source": [
    "necessary_train_data.Foundation.unique()"
   ]
  },
  {
   "cell_type": "code",
   "execution_count": 10,
   "id": "82cc5135",
   "metadata": {},
   "outputs": [
    {
     "data": {
      "text/plain": [
       "array(['GasA', 'GasW', 'Grav', 'Wall', 'OthW', 'Floor'], dtype=object)"
      ]
     },
     "execution_count": 10,
     "metadata": {},
     "output_type": "execute_result"
    }
   ],
   "source": [
    "necessary_train_data.Heating.unique()"
   ]
  },
  {
   "cell_type": "code",
   "execution_count": 11,
   "id": "ff9749da",
   "metadata": {},
   "outputs": [
    {
     "name": "stderr",
     "output_type": "stream",
     "text": [
      "C:\\Users\\Deniz\\AppData\\Local\\Temp\\ipykernel_5724\\3572952141.py:3: SettingWithCopyWarning: \n",
      "A value is trying to be set on a copy of a slice from a DataFrame.\n",
      "Try using .loc[row_indexer,col_indexer] = value instead\n",
      "\n",
      "See the caveats in the documentation: https://pandas.pydata.org/pandas-docs/stable/user_guide/indexing.html#returning-a-view-versus-a-copy\n",
      "  necessary_train_data[[\"Exterior1st\", \"Foundation\", \"Heating\", \"Utilities\", \"CentralAir\"]] = \\\n"
     ]
    },
    {
     "data": {
      "text/html": [
       "<div>\n",
       "<style scoped>\n",
       "    .dataframe tbody tr th:only-of-type {\n",
       "        vertical-align: middle;\n",
       "    }\n",
       "\n",
       "    .dataframe tbody tr th {\n",
       "        vertical-align: top;\n",
       "    }\n",
       "\n",
       "    .dataframe thead th {\n",
       "        text-align: right;\n",
       "    }\n",
       "</style>\n",
       "<table border=\"1\" class=\"dataframe\">\n",
       "  <thead>\n",
       "    <tr style=\"text-align: right;\">\n",
       "      <th></th>\n",
       "      <th>LotArea</th>\n",
       "      <th>Utilities</th>\n",
       "      <th>YearBuilt</th>\n",
       "      <th>Exterior1st</th>\n",
       "      <th>Foundation</th>\n",
       "      <th>Heating</th>\n",
       "      <th>CentralAir</th>\n",
       "      <th>1stFlrSF</th>\n",
       "      <th>2ndFlrSF</th>\n",
       "      <th>BedroomAbvGr</th>\n",
       "      <th>FullBath</th>\n",
       "      <th>KitchenAbvGr</th>\n",
       "      <th>TotRmsAbvGrd</th>\n",
       "      <th>Fireplaces</th>\n",
       "      <th>GarageArea</th>\n",
       "      <th>OpenPorchSF</th>\n",
       "      <th>EnclosedPorch</th>\n",
       "      <th>PoolArea</th>\n",
       "    </tr>\n",
       "  </thead>\n",
       "  <tbody>\n",
       "    <tr>\n",
       "      <th>0</th>\n",
       "      <td>8450</td>\n",
       "      <td>0</td>\n",
       "      <td>2003</td>\n",
       "      <td>12</td>\n",
       "      <td>2</td>\n",
       "      <td>1</td>\n",
       "      <td>1</td>\n",
       "      <td>856</td>\n",
       "      <td>854</td>\n",
       "      <td>3</td>\n",
       "      <td>2</td>\n",
       "      <td>1</td>\n",
       "      <td>8</td>\n",
       "      <td>0</td>\n",
       "      <td>548</td>\n",
       "      <td>61</td>\n",
       "      <td>0</td>\n",
       "      <td>0</td>\n",
       "    </tr>\n",
       "    <tr>\n",
       "      <th>1</th>\n",
       "      <td>9600</td>\n",
       "      <td>0</td>\n",
       "      <td>1976</td>\n",
       "      <td>8</td>\n",
       "      <td>1</td>\n",
       "      <td>1</td>\n",
       "      <td>1</td>\n",
       "      <td>1262</td>\n",
       "      <td>0</td>\n",
       "      <td>3</td>\n",
       "      <td>2</td>\n",
       "      <td>1</td>\n",
       "      <td>6</td>\n",
       "      <td>1</td>\n",
       "      <td>460</td>\n",
       "      <td>0</td>\n",
       "      <td>0</td>\n",
       "      <td>0</td>\n",
       "    </tr>\n",
       "    <tr>\n",
       "      <th>2</th>\n",
       "      <td>11250</td>\n",
       "      <td>0</td>\n",
       "      <td>2001</td>\n",
       "      <td>12</td>\n",
       "      <td>2</td>\n",
       "      <td>1</td>\n",
       "      <td>1</td>\n",
       "      <td>920</td>\n",
       "      <td>866</td>\n",
       "      <td>3</td>\n",
       "      <td>2</td>\n",
       "      <td>1</td>\n",
       "      <td>6</td>\n",
       "      <td>1</td>\n",
       "      <td>608</td>\n",
       "      <td>42</td>\n",
       "      <td>0</td>\n",
       "      <td>0</td>\n",
       "    </tr>\n",
       "    <tr>\n",
       "      <th>3</th>\n",
       "      <td>9550</td>\n",
       "      <td>0</td>\n",
       "      <td>1915</td>\n",
       "      <td>13</td>\n",
       "      <td>0</td>\n",
       "      <td>1</td>\n",
       "      <td>1</td>\n",
       "      <td>961</td>\n",
       "      <td>756</td>\n",
       "      <td>3</td>\n",
       "      <td>1</td>\n",
       "      <td>1</td>\n",
       "      <td>7</td>\n",
       "      <td>1</td>\n",
       "      <td>642</td>\n",
       "      <td>35</td>\n",
       "      <td>272</td>\n",
       "      <td>0</td>\n",
       "    </tr>\n",
       "    <tr>\n",
       "      <th>4</th>\n",
       "      <td>14260</td>\n",
       "      <td>0</td>\n",
       "      <td>2000</td>\n",
       "      <td>12</td>\n",
       "      <td>2</td>\n",
       "      <td>1</td>\n",
       "      <td>1</td>\n",
       "      <td>1145</td>\n",
       "      <td>1053</td>\n",
       "      <td>4</td>\n",
       "      <td>2</td>\n",
       "      <td>1</td>\n",
       "      <td>9</td>\n",
       "      <td>1</td>\n",
       "      <td>836</td>\n",
       "      <td>84</td>\n",
       "      <td>0</td>\n",
       "      <td>0</td>\n",
       "    </tr>\n",
       "  </tbody>\n",
       "</table>\n",
       "</div>"
      ],
      "text/plain": [
       "   LotArea  Utilities  YearBuilt  Exterior1st  Foundation  Heating  \\\n",
       "0     8450          0       2003           12           2        1   \n",
       "1     9600          0       1976            8           1        1   \n",
       "2    11250          0       2001           12           2        1   \n",
       "3     9550          0       1915           13           0        1   \n",
       "4    14260          0       2000           12           2        1   \n",
       "\n",
       "   CentralAir  1stFlrSF  2ndFlrSF  BedroomAbvGr  FullBath  KitchenAbvGr  \\\n",
       "0           1       856       854             3         2             1   \n",
       "1           1      1262         0             3         2             1   \n",
       "2           1       920       866             3         2             1   \n",
       "3           1       961       756             3         1             1   \n",
       "4           1      1145      1053             4         2             1   \n",
       "\n",
       "   TotRmsAbvGrd  Fireplaces  GarageArea  OpenPorchSF  EnclosedPorch  PoolArea  \n",
       "0             8           0         548           61              0         0  \n",
       "1             6           1         460            0              0         0  \n",
       "2             6           1         608           42              0         0  \n",
       "3             7           1         642           35            272         0  \n",
       "4             9           1         836           84              0         0  "
      ]
     },
     "execution_count": 11,
     "metadata": {},
     "output_type": "execute_result"
    }
   ],
   "source": [
    "# Encoder other parameters (don't use dummies because for model will be better use label encoder):\n",
    "label_encoder = LabelEncoder()\n",
    "necessary_train_data[[\"Exterior1st\", \"Foundation\", \"Heating\", \"Utilities\", \"CentralAir\"]] = \\\n",
    "    necessary_train_data[[\n",
    "                            \"Exterior1st\", \n",
    "                            \"Foundation\", \n",
    "                            \"Heating\", \n",
    "                            \"Utilities\", \n",
    "                            \"CentralAir\"\n",
    "                        ]].apply(lambda x: label_encoder.fit_transform(x))\n",
    "\n",
    "# Check final data:\n",
    "necessary_train_data.head()"
   ]
  },
  {
   "cell_type": "code",
   "execution_count": 12,
   "id": "fa6e4295",
   "metadata": {},
   "outputs": [],
   "source": [
    "# Split data for fitting and validating:\n",
    "train_X, validate_X, train_Y, validate_Y = train_test_split(necessary_train_data, Y, test_size=0.2, random_state=1)"
   ]
  },
  {
   "cell_type": "code",
   "execution_count": 13,
   "id": "30df1106",
   "metadata": {},
   "outputs": [],
   "source": [
    "def get_depth(number_of_depth: int):\n",
    "    decision_tree_model = DecisionTreeRegressor(criterion=\"absolute_error\", max_depth=number_of_depth, random_state=1)\n",
    "    \n",
    "    decision_tree_model.fit(train_X, train_Y)\n",
    "    \n",
    "    predictions = decision_tree_model.predict(validate_X)\n",
    "    \n",
    "    return mean_absolute_error(predictions, validate_Y)\n",
    "\n",
    "def get_max_leaf_nodes(number_max_leaf_nodes: int, depth: int):\n",
    "    decision_tree_model = DecisionTreeRegressor(criterion=\"absolute_error\",  max_depth=depth, \n",
    "                                                max_leaf_nodes=number_max_leaf_nodes, random_state=1)\n",
    "    \n",
    "    decision_tree_model.fit(train_X, train_Y)\n",
    "    \n",
    "    predictions = decision_tree_model.predict(validate_X)\n",
    "    \n",
    "    return mean_absolute_error(predictions, validate_Y)\n",
    "\n",
    "# To get the best max depth and max leaf counter:\n",
    "def get_the_best_tree_parameters():\n",
    "    variants_of_depth = {depth: get_depth(depth) for depth in range(5, 300)}\n",
    "    best_depth = min(variants_of_depth, key=variants_of_depth.get)\n",
    "    variants_of_leaf = {leaf: get_max_leaf_nodes(leaf, best_depth) for leaf in range(3, 50)}\n",
    "    \n",
    "    return (best_depth, min(variants_of_leaf, key=variants_of_leaf.get))"
   ]
  },
  {
   "cell_type": "code",
   "execution_count": null,
   "id": "6d968d4d",
   "metadata": {},
   "outputs": [],
   "source": [
    "# The best params from training data:\n",
    "best_parameters = get_the_best_tree_parameters()\n",
    "\n",
    "print(best_parameters)"
   ]
  },
  {
   "cell_type": "code",
   "execution_count": null,
   "id": "7c8ad840",
   "metadata": {},
   "outputs": [],
   "source": [
    "# We found the best values of parameters for decision tree, then we can use for training all samples:\n",
    "final_training_samples = pd.concat([train_X, validate_X], axis=0)\n",
    "final_training_targets = pd.concat([train_Y, validate_Y], axis=0)\n",
    "\n",
    "# Check dataframe of samples for example:\n",
    "final_training_samples"
   ]
  },
  {
   "cell_type": "code",
   "execution_count": null,
   "id": "15858489",
   "metadata": {},
   "outputs": [],
   "source": [
    "# Create the best model for our data:\n",
    "decision_tree_model = DecisionTreeRegressor(\n",
    "                                            criterion=\"absolute_error\", \n",
    "                                            max_depth=best_parameters[0], \n",
    "                                            max_leaf_nodes=best_parameters[1], \n",
    "                                            random_state=1\n",
    "                                           )\n",
    "\n",
    "# Make the final fitting:\n",
    "decision_tree_model.fit(final_training_samples, final_training_targets)\n",
    "\n",
    "# Add Id for future submission:\n",
    "features.append(\"Id\")\n",
    "\n",
    "# Prepare test data:\n",
    "test_samples = test_dataframe[features]\n",
    "\n",
    "# Check that we don't have null values:\n",
    "test_samples.info()"
   ]
  },
  {
   "cell_type": "code",
   "execution_count": null,
   "id": "5ad1aba1",
   "metadata": {},
   "outputs": [],
   "source": [
    "# Calculate mean value for null cells:\n",
    "mean_price = int((test_samples[\"GarageArea\"].mean()))\n",
    "\n",
    "# Check the getting value:\n",
    "print(mean_price)"
   ]
  },
  {
   "cell_type": "code",
   "execution_count": null,
   "id": "af63cde8",
   "metadata": {},
   "outputs": [],
   "source": [
    "# Fill null cell by mean value of parameter (we have only 1 string):\n",
    "test_samples.GarageArea.fillna(mean_price, inplace=True)\n",
    "\n",
    "# Prepare data:\n",
    "test_samples[[\"Exterior1st\", \"Foundation\", \"Heating\", \"Utilities\", \"CentralAir\"]] = \\\n",
    "    test_samples[[\n",
    "                    \"Exterior1st\", \n",
    "                    \"Foundation\", \n",
    "                    \"Heating\", \n",
    "                    \"Utilities\", \n",
    "                    \"CentralAir\"\n",
    "                ]].apply(lambda x: label_encoder.fit_transform(x))\n",
    "\n",
    "# Check result test data:\n",
    "test_samples"
   ]
  },
  {
   "cell_type": "code",
   "execution_count": null,
   "id": "9def285c",
   "metadata": {},
   "outputs": [],
   "source": [
    "# The submissions Ids:\n",
    "submission_ids = test_samples.Id\n",
    "\n",
    "# Drop Id column for fitting:\n",
    "test_samples.drop(columns=[\"Id\"], axis=1, inplace=True)\n",
    "\n",
    "# Make the final prediction:\n",
    "test_prediction = decision_tree_model.predict(test_samples)\n",
    "\n",
    "# Check the final price predictions:\n",
    "test_prediction"
   ]
  },
  {
   "cell_type": "code",
   "execution_count": null,
   "id": "d71cd892",
   "metadata": {},
   "outputs": [],
   "source": [
    "# Create submission dataframe:\n",
    "submisson_file = pd.DataFrame(\n",
    "                                {\n",
    "                                    \"Id\": submission_ids,\n",
    "                                    \"SalePrice\": test_prediction\n",
    "                                }\n",
    "                             )\n",
    "\n",
    "# Check the result:\n",
    "submisson_file"
   ]
  },
  {
   "cell_type": "code",
   "execution_count": null,
   "id": "e0284e6d",
   "metadata": {},
   "outputs": [],
   "source": [
    "# Create a submission file:\n",
    "submisson_file.to_csv(\"submission.csv\", index=False)"
   ]
  }
 ],
 "metadata": {
  "kernelspec": {
   "display_name": "Python 3 (ipykernel)",
   "language": "python",
   "name": "python3"
  },
  "language_info": {
   "codemirror_mode": {
    "name": "ipython",
    "version": 3
   },
   "file_extension": ".py",
   "mimetype": "text/x-python",
   "name": "python",
   "nbconvert_exporter": "python",
   "pygments_lexer": "ipython3",
   "version": "3.11.5"
  }
 },
 "nbformat": 4,
 "nbformat_minor": 5
}
